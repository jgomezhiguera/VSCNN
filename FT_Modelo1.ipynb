{
 "cells": [
  {
   "cell_type": "code",
   "execution_count": 15,
   "metadata": {},
   "outputs": [],
   "source": [
    "import tensorflow as tf\n",
    "import os\n",
    "import numpy as np\n",
    "from matplotlib import pyplot as plt\n",
    "%matplotlib inline\n"
   ]
  },
  {
   "cell_type": "code",
   "execution_count": 32,
   "metadata": {},
   "outputs": [],
   "source": [
    "from tensorflow.keras.models import Model, Sequential\n",
    "from tensorflow.keras.layers import Dense, Flatten, Dropout, MaxPooling2D\n",
    "from tensorflow.keras.applications import inception_resnet_v2\n",
    "#from tensorflow.keras.applications.vgg16 import preprocess_input, decode_predictions\n",
    "from tensorflow.keras.preprocessing.image import ImageDataGenerator\n",
    "from tensorflow.keras.optimizers import Adam, RMSprop\n",
    "from keras import regularizers"
   ]
  },
  {
   "cell_type": "code",
   "execution_count": 18,
   "metadata": {},
   "outputs": [],
   "source": [
    "datagen_train = ImageDataGenerator(\n",
    "    rescale=1./255,\n",
    "      rotation_range=180,\n",
    "      width_shift_range=0.1,\n",
    "      height_shift_range=0.1,\n",
    "      shear_range=0.1,\n",
    "      zoom_range=[0.9, 1.5],\n",
    "      horizontal_flip=True,\n",
    "      vertical_flip=True,\n",
    "      fill_mode='nearest')"
   ]
  },
  {
   "cell_type": "code",
   "execution_count": 19,
   "metadata": {},
   "outputs": [],
   "source": [
    "path = '/home/jgomez/Documents/Us'"
   ]
  },
  {
   "cell_type": "code",
   "execution_count": 20,
   "metadata": {},
   "outputs": [],
   "source": [
    "train_dir = path + \"/train\"\n",
    "test_dir = path+\"/val\""
   ]
  },
  {
   "cell_type": "code",
   "execution_count": 26,
   "metadata": {},
   "outputs": [],
   "source": [
    "batch_size = 32\n",
    "img_height = 224\n",
    "img_width = 224"
   ]
  },
  {
   "cell_type": "code",
   "execution_count": 33,
   "metadata": {},
   "outputs": [
    {
     "name": "stdout",
     "output_type": "stream",
     "text": [
      "Model: \"sequential_4\"\n",
      "_________________________________________________________________\n",
      "Layer (type)                 Output Shape              Param #   \n",
      "=================================================================\n",
      "batch_normalization_4 (Batch (None, 224, 224, 3)       12        \n",
      "_________________________________________________________________\n",
      "conv2d_8 (Conv2D)            (None, 224, 224, 32)      896       \n",
      "_________________________________________________________________\n",
      "conv2d_9 (Conv2D)            (None, 224, 224, 32)      9248      \n",
      "_________________________________________________________________\n",
      "max_pooling2d_4 (MaxPooling2 (None, 112, 112, 32)      0         \n",
      "_________________________________________________________________\n",
      "dropout_7 (Dropout)          (None, 112, 112, 32)      0         \n",
      "_________________________________________________________________\n",
      "flatten_4 (Flatten)          (None, 401408)            0         \n",
      "_________________________________________________________________\n",
      "dropout_8 (Dropout)          (None, 401408)            0         \n",
      "_________________________________________________________________\n",
      "dense_3 (Dense)              (None, 2)                 802818    \n",
      "=================================================================\n",
      "Total params: 812,974\n",
      "Trainable params: 812,968\n",
      "Non-trainable params: 6\n",
      "_________________________________________________________________\n"
     ]
    }
   ],
   "source": [
    "from tensorflow.keras.layers import Conv2D, MaxPooling2D, BatchNormalization\n",
    "from tensorflow.keras.layers import Dropout, Flatten, Input, Dense\n",
    "\n",
    "def create_model():\n",
    "    \n",
    "    def add_conv_block(model, num_filters):\n",
    "        \n",
    "        model.add(BatchNormalization())\n",
    "        model.add(Conv2D(num_filters, 3, activation='relu', padding='same', kernel_regularizer=regularizers.l2(0.01)))\n",
    "        model.add(Conv2D(num_filters, 3, activation='relu', padding='same', kernel_regularizer=regularizers.l2(0.01)))\n",
    "        model.add(MaxPooling2D(pool_size=2))\n",
    "        model.add(Dropout(0.5))\n",
    "        model.add(Flatten())\n",
    "        model.add(Dropout(0.2))\n",
    "        return model\n",
    "    \n",
    "    model = tf.keras.models.Sequential()\n",
    "    model.add(Input(shape=(224, 224, 3)))\n",
    "    model = add_conv_block(model, 32)\n",
    "    model.add(Dense(2, activation='softmax'))\n",
    "\n",
    "    model.compile(loss='categorical_crossentropy', optimizer='adam', metrics=['accuracy'])\n",
    "    return model\n",
    "\n",
    "model = create_model()\n",
    "model.summary()"
   ]
  },
  {
   "cell_type": "code",
   "execution_count": 27,
   "metadata": {},
   "outputs": [
    {
     "data": {
      "text/plain": [
       "(224, 224)"
      ]
     },
     "execution_count": 27,
     "metadata": {},
     "output_type": "execute_result"
    }
   ],
   "source": [
    "input_shape = model.layers[0].output_shape[1:3]\n",
    "input_shape"
   ]
  },
  {
   "cell_type": "code",
   "execution_count": 28,
   "metadata": {},
   "outputs": [
    {
     "name": "stdout",
     "output_type": "stream",
     "text": [
      "Found 23038 images belonging to 2 classes.\n"
     ]
    }
   ],
   "source": [
    "generator_train = datagen_train.flow_from_directory(directory=train_dir,\n",
    "                                                    target_size=input_shape,\n",
    "                                                    batch_size=batch_size,\n",
    "                                                    shuffle=True)"
   ]
  },
  {
   "cell_type": "code",
   "execution_count": 29,
   "metadata": {},
   "outputs": [],
   "source": [
    "datagen_test = ImageDataGenerator(rescale=1./255)"
   ]
  },
  {
   "cell_type": "code",
   "execution_count": 30,
   "metadata": {},
   "outputs": [
    {
     "name": "stdout",
     "output_type": "stream",
     "text": [
      "Found 1186 images belonging to 2 classes.\n"
     ]
    }
   ],
   "source": [
    "generator_test = datagen_test.flow_from_directory(directory=test_dir,\n",
    "                                                  target_size=input_shape,\n",
    "                                                  batch_size=batch_size,\n",
    "                                                  shuffle=False)"
   ]
  },
  {
   "cell_type": "code",
   "execution_count": 34,
   "metadata": {},
   "outputs": [
    {
     "name": "stdout",
     "output_type": "stream",
     "text": [
      "Epoch 1/50\n",
      "720/720 [==============================] - 851s 1s/step - loss: 0.9927 - accuracy: 0.5175 - val_loss: 0.8344 - val_accuracy: 0.5236\n",
      "Epoch 2/50\n",
      "720/720 [==============================] - 850s 1s/step - loss: 0.7903 - accuracy: 0.5211 - val_loss: 0.7572 - val_accuracy: 0.5143\n",
      "Epoch 3/50\n",
      "720/720 [==============================] - 846s 1s/step - loss: 0.7353 - accuracy: 0.5184 - val_loss: 0.7208 - val_accuracy: 0.5000\n",
      "Epoch 4/50\n",
      "720/720 [==============================] - 851s 1s/step - loss: 0.7106 - accuracy: 0.5238 - val_loss: 0.7068 - val_accuracy: 0.5076\n",
      "Epoch 5/50\n",
      "720/720 [==============================] - 850s 1s/step - loss: 0.6992 - accuracy: 0.5182 - val_loss: 0.6979 - val_accuracy: 0.5025\n",
      "Epoch 6/50\n",
      "720/720 [==============================] - 853s 1s/step - loss: 0.6949 - accuracy: 0.5199 - val_loss: 0.6957 - val_accuracy: 0.5017\n",
      "Epoch 7/50\n",
      "720/720 [==============================] - 852s 1s/step - loss: 0.6928 - accuracy: 0.5215 - val_loss: 0.6943 - val_accuracy: 0.5177\n",
      "Epoch 8/50\n",
      "720/720 [==============================] - 853s 1s/step - loss: 0.6937 - accuracy: 0.5088 - val_loss: 0.6936 - val_accuracy: 0.5101\n",
      "Epoch 9/50\n",
      "720/720 [==============================] - 849s 1s/step - loss: 0.6925 - accuracy: 0.5267 - val_loss: 0.6936 - val_accuracy: 0.5076\n",
      "Epoch 10/50\n",
      "720/720 [==============================] - 848s 1s/step - loss: 0.6929 - accuracy: 0.5159 - val_loss: 0.6942 - val_accuracy: 0.5160\n",
      "Epoch 11/50\n",
      "720/720 [==============================] - 848s 1s/step - loss: 0.6924 - accuracy: 0.5242 - val_loss: 0.6973 - val_accuracy: 0.5295\n",
      "Epoch 12/50\n",
      "720/720 [==============================] - 848s 1s/step - loss: 0.6929 - accuracy: 0.5182 - val_loss: 0.6916 - val_accuracy: 0.5438\n",
      "Epoch 13/50\n",
      "720/720 [==============================] - 847s 1s/step - loss: 0.6934 - accuracy: 0.5103 - val_loss: 0.6934 - val_accuracy: 0.5118\n",
      "Epoch 14/50\n",
      "720/720 [==============================] - 848s 1s/step - loss: 0.6930 - accuracy: 0.5151 - val_loss: 0.6971 - val_accuracy: 0.5287\n",
      "Epoch 15/50\n",
      "720/720 [==============================] - 849s 1s/step - loss: 0.6934 - accuracy: 0.5152 - val_loss: 0.6953 - val_accuracy: 0.5228\n",
      "Epoch 16/50\n",
      "720/720 [==============================] - 848s 1s/step - loss: 0.6935 - accuracy: 0.5118 - val_loss: 0.6933 - val_accuracy: 0.5194\n",
      "Epoch 17/50\n",
      "720/720 [==============================] - 849s 1s/step - loss: 0.6930 - accuracy: 0.5182 - val_loss: 0.6952 - val_accuracy: 0.4975\n",
      "Epoch 18/50\n",
      "720/720 [==============================] - 852s 1s/step - loss: 0.6935 - accuracy: 0.5124 - val_loss: 0.6972 - val_accuracy: 0.5017\n",
      "Epoch 19/50\n",
      "720/720 [==============================] - 850s 1s/step - loss: 0.6934 - accuracy: 0.5093 - val_loss: 0.6937 - val_accuracy: 0.4865\n",
      "Epoch 20/50\n",
      "720/720 [==============================] - 850s 1s/step - loss: 0.6928 - accuracy: 0.5127 - val_loss: 0.6936 - val_accuracy: 0.5076\n",
      "Epoch 21/50\n",
      "720/720 [==============================] - 848s 1s/step - loss: 0.6935 - accuracy: 0.4983 - val_loss: 0.6934 - val_accuracy: 0.4958\n",
      "Epoch 22/50\n",
      "720/720 [==============================] - 849s 1s/step - loss: 0.6931 - accuracy: 0.5102 - val_loss: 0.6933 - val_accuracy: 0.5025\n",
      "Epoch 23/50\n",
      "720/720 [==============================] - 850s 1s/step - loss: 0.6933 - accuracy: 0.4993 - val_loss: 0.6932 - val_accuracy: 0.5000\n",
      "Epoch 24/50\n",
      "720/720 [==============================] - 852s 1s/step - loss: 0.6933 - accuracy: 0.4975 - val_loss: 0.6932 - val_accuracy: 0.4992\n",
      "Epoch 25/50\n",
      "720/720 [==============================] - 849s 1s/step - loss: 0.6932 - accuracy: 0.4979 - val_loss: 0.6932 - val_accuracy: 0.4992\n",
      "Epoch 26/50\n",
      "720/720 [==============================] - 850s 1s/step - loss: 0.6932 - accuracy: 0.5013 - val_loss: 0.6932 - val_accuracy: 0.5008\n",
      "Epoch 27/50\n",
      "720/720 [==============================] - 851s 1s/step - loss: 0.6932 - accuracy: 0.5004 - val_loss: 0.6932 - val_accuracy: 0.4992\n"
     ]
    }
   ],
   "source": [
    "h = model.fit(\n",
    "    generator_train,\n",
    "    validation_data=generator_test,\n",
    "    epochs=50, \n",
    "    callbacks=[\n",
    "        tf.keras.callbacks.EarlyStopping(monitor='val_accuracy', patience=15),\n",
    "        tf.keras.callbacks.ModelCheckpoint('models/model_{val_accuracy:.3f}.h5', save_best_only=True,\n",
    "                                          save_weights_only=False, monitor='val_accuracy')\n",
    "    ]\n",
    ")"
   ]
  },
  {
   "cell_type": "code",
   "execution_count": 44,
   "metadata": {},
   "outputs": [
    {
     "data": {
      "image/png": "[encoded data removed]",
      "text/plain": [
       "<Figure size 432x288 with 1 Axes>"
      ]
     },
     "metadata": {
      "needs_background": "light"
     },
     "output_type": "display_data"
    }
   ],
   "source": [
    "plt.plot(h.history['accuracy'])\n",
    "plt.plot(h.history['val_accuracy'])\n",
    "plt.title('model accuracy')\n",
    "plt.ylabel('accuracy')\n",
    "plt.xlabel('epoch')\n",
    "plt.legend(['train', 'val'], loc='upper left')\n",
    "plt.show()\n"
   ]
  }
 ],
 "metadata": {
  "kernelspec": {
   "display_name": "Python 3",
   "language": "python",
   "name": "python3"
  },
  "language_info": {
   "codemirror_mode": {
    "name": "ipython",
    "version": 3
   },
   "file_extension": ".py",
   "mimetype": "text/x-python",
   "name": "python",
   "nbconvert_exporter": "python",
   "pygments_lexer": "ipython3",
   "version": "3.8.5"
  }
 },
 "nbformat": 4,
 "nbformat_minor": 4
}
