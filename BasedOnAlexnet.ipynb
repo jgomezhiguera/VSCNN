{
  "nbformat": 4,
  "nbformat_minor": 0,
  "metadata": {
    "colab": {
      "name": "BasedOnAlexnet.ipynb",
      "provenance": [],
      "machine_shape": "hm"
    },
    "kernelspec": {
      "name": "python3",
      "display_name": "Python 3"
    },
    "accelerator": "GPU"
  },
  "cells": [
    {
      "cell_type": "code",
      "metadata": {
        "id": "6Azr0MGtE0mc"
      },
      "source": [
        "import tensorflow as tf\r\n",
        "import os\r\n",
        "import numpy as np\r\n",
        "\r\n",
        "from matplotlib import pyplot as plt\r\n",
        "%matplotlib inline\r\n"
      ],
      "execution_count": null,
      "outputs": []
    },
    {
      "cell_type": "code",
      "metadata": {
        "id": "rTCL_XZSFrTW"
      },
      "source": [
        "from google.colab import drive\r\n",
        "from tensorflow.keras.models import Model, Sequential\r\n",
        "from tensorflow.keras.layers import Dense, Flatten, Dropout, MaxPooling2D\r\n",
        "from tensorflow.keras.applications import inception_resnet_v2\r\n",
        "#from tensorflow.keras.applications.vgg16 import preprocess_input, decode_predictions\r\n",
        "from tensorflow.keras.preprocessing.image import ImageDataGenerator\r\n",
        "from tensorflow.keras.optimizers import Adam, RMSprop"
      ],
      "execution_count": null,
      "outputs": []
    },
    {
      "cell_type": "code",
      "metadata": {
        "colab": {
          "base_uri": "https://localhost:8080/"
        },
        "id": "L_oLVpDtFtBV",
        "outputId": "2362f49a-e916-463e-8fc6-abbc8195d3db"
      },
      "source": [
        "drive.mount(\"/content/drive\", force_remount=True)"
      ],
      "execution_count": null,
      "outputs": [
        {
          "output_type": "stream",
          "text": [
            "Mounted at /content/drive\n"
          ],
          "name": "stdout"
        }
      ]
    },
    {
      "cell_type": "code",
      "metadata": {
        "id": "lSaTAq7AF2p1"
      },
      "source": [
        "train_dir = \"/content/drive/MyDrive/Us/train\"\r\n",
        "test_dir = \"/content/drive/MyDrive/Us/val\""
      ],
      "execution_count": null,
      "outputs": []
    },
    {
      "cell_type": "code",
      "metadata": {
        "id": "PqLhw3wAF6P2"
      },
      "source": [
        "datagen_train = ImageDataGenerator(\r\n",
        "    rescale=1./255,\r\n",
        "      rotation_range=180,\r\n",
        "      width_shift_range=0.1,\r\n",
        "      height_shift_range=0.1,\r\n",
        "      shear_range=0.1,\r\n",
        "      zoom_range=[0.9, 1.5],\r\n",
        "      horizontal_flip=True,\r\n",
        "      vertical_flip=True,\r\n",
        "      fill_mode='nearest')"
      ],
      "execution_count": null,
      "outputs": []
    },
    {
      "cell_type": "code",
      "metadata": {
        "colab": {
          "base_uri": "https://localhost:8080/"
        },
        "id": "Yr_W4MlSF8Am",
        "outputId": "405f19e2-38ff-45d0-f8c9-0fd25ee05cff"
      },
      "source": [
        "from tensorflow.keras.layers import Conv2D, MaxPooling2D, BatchNormalization\r\n",
        "from tensorflow.keras.layers import Dropout, Flatten, Input, Dense\r\n",
        "\r\n",
        "def create_model():\r\n",
        "    \r\n",
        "    def add_conv_block(model, num_filters):\r\n",
        "        \r\n",
        "        model.add(Conv2D(num_filters, 3, activation='relu', padding='same'))\r\n",
        "        model.add(BatchNormalization())\r\n",
        "        model.add(Conv2D(num_filters, 3, activation='relu', padding='valid'))\r\n",
        "        model.add(MaxPooling2D(pool_size=2))\r\n",
        "        model.add(Dropout(0.2))\r\n",
        "\r\n",
        "        return model\r\n",
        "    \r\n",
        "    model = tf.keras.models.Sequential()\r\n",
        "    model.add(Input(shape=(224, 224, 3)))\r\n",
        "    \r\n",
        "    model = add_conv_block(model, 32)\r\n",
        "    model = add_conv_block(model, 64)\r\n",
        "    model = add_conv_block(model, 128)\r\n",
        "\r\n",
        "    model.add(Flatten())\r\n",
        "    model.add(Dense(2, activation='softmax'))\r\n",
        "\r\n",
        "    model.compile(loss='categorical_crossentropy', optimizer='adam', metrics=['accuracy'])\r\n",
        "    return model\r\n",
        "\r\n",
        "model = create_model()\r\n",
        "model.summary()"
      ],
      "execution_count": null,
      "outputs": [
        {
          "output_type": "stream",
          "text": [
            "Model: \"sequential\"\n",
            "_________________________________________________________________\n",
            "Layer (type)                 Output Shape              Param #   \n",
            "=================================================================\n",
            "conv2d (Conv2D)              (None, 224, 224, 32)      896       \n",
            "_________________________________________________________________\n",
            "batch_normalization (BatchNo (None, 224, 224, 32)      128       \n",
            "_________________________________________________________________\n",
            "conv2d_1 (Conv2D)            (None, 222, 222, 32)      9248      \n",
            "_________________________________________________________________\n",
            "max_pooling2d (MaxPooling2D) (None, 111, 111, 32)      0         \n",
            "_________________________________________________________________\n",
            "dropout (Dropout)            (None, 111, 111, 32)      0         \n",
            "_________________________________________________________________\n",
            "conv2d_2 (Conv2D)            (None, 111, 111, 64)      18496     \n",
            "_________________________________________________________________\n",
            "batch_normalization_1 (Batch (None, 111, 111, 64)      256       \n",
            "_________________________________________________________________\n",
            "conv2d_3 (Conv2D)            (None, 109, 109, 64)      36928     \n",
            "_________________________________________________________________\n",
            "max_pooling2d_1 (MaxPooling2 (None, 54, 54, 64)        0         \n",
            "_________________________________________________________________\n",
            "dropout_1 (Dropout)          (None, 54, 54, 64)        0         \n",
            "_________________________________________________________________\n",
            "conv2d_4 (Conv2D)            (None, 54, 54, 128)       73856     \n",
            "_________________________________________________________________\n",
            "batch_normalization_2 (Batch (None, 54, 54, 128)       512       \n",
            "_________________________________________________________________\n",
            "conv2d_5 (Conv2D)            (None, 52, 52, 128)       147584    \n",
            "_________________________________________________________________\n",
            "max_pooling2d_2 (MaxPooling2 (None, 26, 26, 128)       0         \n",
            "_________________________________________________________________\n",
            "dropout_2 (Dropout)          (None, 26, 26, 128)       0         \n",
            "_________________________________________________________________\n",
            "flatten (Flatten)            (None, 86528)             0         \n",
            "_________________________________________________________________\n",
            "dense (Dense)                (None, 2)                 173058    \n",
            "=================================================================\n",
            "Total params: 460,962\n",
            "Trainable params: 460,514\n",
            "Non-trainable params: 448\n",
            "_________________________________________________________________\n"
          ],
          "name": "stdout"
        }
      ]
    },
    {
      "cell_type": "code",
      "metadata": {
        "id": "06LNRUQDGAB9"
      },
      "source": [
        "batch_size = 32"
      ],
      "execution_count": null,
      "outputs": []
    },
    {
      "cell_type": "code",
      "metadata": {
        "colab": {
          "base_uri": "https://localhost:8080/"
        },
        "id": "mv2ALabUXlIe",
        "outputId": "e314e47e-ca2c-4a40-c694-f7cf9a48520b"
      },
      "source": [
        "          input_shape = model.layers[0].output_shape[1:3]\r\n",
        "input_shape"
      ],
      "execution_count": null,
      "outputs": [
        {
          "output_type": "execute_result",
          "data": {
            "text/plain": [
              "(224, 224)"
            ]
          },
          "metadata": {
            "tags": []
          },
          "execution_count": 12
        }
      ]
    },
    {
      "cell_type": "code",
      "metadata": {
        "colab": {
          "base_uri": "https://localhost:8080/"
        },
        "id": "G8KbHz6RXqWU",
        "outputId": "45b9bd1b-47f2-48b6-f698-14fdbde2e096"
      },
      "source": [
        "generator_train = datagen_train.flow_from_directory(directory=train_dir,\r\n",
        "                                                    target_size=input_shape,\r\n",
        "                                                    batch_size=batch_size,\r\n",
        "                                                    shuffle=True)"
      ],
      "execution_count": null,
      "outputs": [
        {
          "output_type": "stream",
          "text": [
            "Found 45646 images belonging to 2 classes.\n"
          ],
          "name": "stdout"
        }
      ]
    },
    {
      "cell_type": "code",
      "metadata": {
        "id": "afYJiQe-XsUz"
      },
      "source": [
        "datagen_test = ImageDataGenerator(rescale=1./255)"
      ],
      "execution_count": null,
      "outputs": []
    },
    {
      "cell_type": "code",
      "metadata": {
        "colab": {
          "base_uri": "https://localhost:8080/"
        },
        "id": "FCQdtMczXuDM",
        "outputId": "10b0bf3b-e21c-4581-b16f-c5f7bf382b2c"
      },
      "source": [
        "generator_test = datagen_test.flow_from_directory(directory=test_dir,\r\n",
        "                                                  target_size=input_shape,\r\n",
        "                                                  batch_size=batch_size,\r\n",
        "                                                  shuffle=False)"
      ],
      "execution_count": null,
      "outputs": [
        {
          "output_type": "stream",
          "text": [
            "Found 1194 images belonging to 2 classes.\n"
          ],
          "name": "stdout"
        }
      ]
    },
    {
      "cell_type": "code",
      "metadata": {
        "colab": {
          "base_uri": "https://localhost:8080/"
        },
        "id": "4T4w-uROXwFk",
        "outputId": "7c96e376-989f-4fe6-f5b1-63eec75a46f0"
      },
      "source": [
        "h = model.fit(\r\n",
        "    generator_train,\r\n",
        "    validation_data=generator_test,\r\n",
        "    epochs=10, \r\n",
        "    callbacks=[\r\n",
        "        tf.keras.callbacks.EarlyStopping(monitor='val_accuracy', patience=2),\r\n",
        "        tf.keras.callbacks.ModelCheckpoint('models/model_{val_accuracy:.3f}.h5', save_best_only=True,\r\n",
        "                                          save_weights_only=False, monitor='val_accuracy')\r\n",
        "    ]\r\n",
        ")"
      ],
      "execution_count": null,
      "outputs": [
        {
          "output_type": "stream",
          "text": [
            "Epoch 1/10\n",
            "1427/1427 [==============================] - 1194s 836ms/step - loss: 0.6932 - accuracy: 0.5017 - val_loss: 0.6932 - val_accuracy: 0.5000\n",
            "Epoch 2/10\n",
            "1427/1427 [==============================] - 1203s 843ms/step - loss: 0.6933 - accuracy: 0.4970 - val_loss: 0.6931 - val_accuracy: 0.5000\n",
            "Epoch 3/10\n",
            "1427/1427 [==============================] - 1198s 839ms/step - loss: 0.6932 - accuracy: 0.4982 - val_loss: 0.6931 - val_accuracy: 0.5000\n"
          ],
          "name": "stdout"
        }
      ]
    },
    {
      "cell_type": "code",
      "metadata": {
        "id": "CyH7rLfcZz0P"
      },
      "source": [
        ""
      ],
      "execution_count": null,
      "outputs": []
    }
  ]
}