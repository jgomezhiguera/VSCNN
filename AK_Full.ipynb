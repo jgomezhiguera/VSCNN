{
 "cells": [
  {
   "cell_type": "code",
   "execution_count": 7,
   "metadata": {},
   "outputs": [],
   "source": [
    "import numpy as np\n",
    "import tensorflow as tf\n",
    "from tensorflow.python.keras.utils.data_utils import Sequence\n",
    "import autokeras as ak\n",
    "from tensorflow.keras.preprocessing.image import ImageDataGenerator"
   ]
  },
  {
   "cell_type": "code",
   "execution_count": 8,
   "metadata": {},
   "outputs": [],
   "source": [
    "path = '/home/jgomez/Documents/Us'"
   ]
  },
  {
   "cell_type": "code",
   "execution_count": 9,
   "metadata": {},
   "outputs": [],
   "source": [
    "train_dir = path + \"/train\"\n",
    "test_dir = path + \"/val\""
   ]
  },
  {
   "cell_type": "code",
   "execution_count": 25,
   "metadata": {},
   "outputs": [
    {
     "data": {
      "text/plain": [
       "(227, 227)"
      ]
     },
     "execution_count": 25,
     "metadata": {},
     "output_type": "execute_result"
    }
   ],
   "source": [
    "batch_size = 16\n",
    "img_height = 227\n",
    "img_width = 227\n",
    "input_shape = (img_width, img_width)\n",
    "input_shape"
   ]
  },
  {
   "cell_type": "code",
   "execution_count": 11,
   "metadata": {},
   "outputs": [],
   "source": [
    "datagen_train = ImageDataGenerator(\n",
    "    rescale=1./255,\n",
    "      rotation_range=180,\n",
    "      width_shift_range=0.1,\n",
    "      height_shift_range=0.1,\n",
    "      shear_range=0.1,\n",
    "      zoom_range=[0.9, 1.5],\n",
    "      horizontal_flip=True,\n",
    "      vertical_flip=True,\n",
    "      fill_mode='nearest')"
   ]
  },
  {
   "cell_type": "code",
   "execution_count": 15,
   "metadata": {},
   "outputs": [
    {
     "name": "stdout",
     "output_type": "stream",
     "text": [
      "Found 45646 images belonging to 2 classes.\n"
     ]
    }
   ],
   "source": []
  },
  {
   "cell_type": "code",
   "execution_count": 26,
   "metadata": {},
   "outputs": [
    {
     "name": "stdout",
     "output_type": "stream",
     "text": [
      "Found 45646 files belonging to 2 classes.\n",
      "Using 31953 files for training.\n"
     ]
    }
   ],
   "source": [
    "train_data = ak.image_dataset_from_directory(\n",
    "train_dir,\n",
    "validation_split=0.3,\n",
    "subset=\"training\",\n",
    "seed=123,\n",
    "image_size= (img_height, img_width),\n",
    "batch_size=batch_size)"
   ]
  },
  {
   "cell_type": "code",
   "execution_count": 27,
   "metadata": {},
   "outputs": [],
   "source": [
    "clk=ak.ImageClassifier(max_trials=1, overwrite=True)"
   ]
  },
  {
   "cell_type": "code",
   "execution_count": null,
   "metadata": {},
   "outputs": [
    {
     "name": "stdout",
     "output_type": "stream",
     "text": [
      "Trial 1 Complete [07h 16m 52s]\n",
      "val_loss: 0.6924095749855042\n",
      "\n",
      "Best val_loss So Far: 0.6924095749855042\n",
      "Total elapsed time: 07h 16m 52s\n",
      "INFO:tensorflow:Oracle triggered exit\n",
      "Epoch 1/100\n",
      "1998/1998 [==============================] - 2626s 1s/step - loss: 0.7063 - accuracy: 0.5093\n",
      "Epoch 2/100\n",
      "1998/1998 [==============================] - 2550s 1s/step - loss: 0.6937 - accuracy: 0.5242\n",
      "Epoch 3/100\n",
      "1998/1998 [==============================] - 2497s 1s/step - loss: 0.6808 - accuracy: 0.5487\n",
      "Epoch 4/100\n",
      "1998/1998 [==============================] - 2505s 1s/step - loss: 0.6430 - accuracy: 0.6068\n",
      "Epoch 5/100\n",
      "1998/1998 [==============================] - 2502s 1s/step - loss: 0.5843 - accuracy: 0.6636\n",
      "Epoch 6/100\n",
      "1998/1998 [==============================] - 2503s 1s/step - loss: 0.5429 - accuracy: 0.7034\n",
      "Epoch 7/100\n",
      "1998/1998 [==============================] - 2498s 1s/step - loss: 0.5154 - accuracy: 0.7294\n",
      "Epoch 8/100\n",
      "1998/1998 [==============================] - 2500s 1s/step - loss: 0.4710 - accuracy: 0.7597\n",
      "Epoch 9/100\n",
      "1998/1998 [==============================] - 2507s 1s/step - loss: 0.4338 - accuracy: 0.7903\n",
      "Epoch 10/100\n",
      "1998/1998 [==============================] - 2503s 1s/step - loss: 0.4091 - accuracy: 0.8055\n",
      "Epoch 11/100\n",
      "1998/1998 [==============================] - 2723s 1s/step - loss: 0.3865 - accuracy: 0.8210\n",
      "Epoch 12/100\n",
      "1998/1998 [==============================] - 2540s 1s/step - loss: 0.3791 - accuracy: 0.8277\n",
      "Epoch 13/100\n",
      "1998/1998 [==============================] - 2533s 1s/step - loss: 0.3453 - accuracy: 0.8481\n",
      "Epoch 14/100\n",
      "1998/1998 [==============================] - 2753s 1s/step - loss: 0.3344 - accuracy: 0.8555\n",
      "Epoch 15/100\n",
      "1998/1998 [==============================] - 2591s 1s/step - loss: 0.3216 - accuracy: 0.8632\n",
      "Epoch 16/100\n",
      "1998/1998 [==============================] - 2504s 1s/step - loss: 0.3005 - accuracy: 0.8735\n",
      "Epoch 17/100\n",
      "1475/1998 [=====================>........] - ETA: 8:05 - loss: 0.2984 - accuracy: 0.8739"
     ]
    }
   ],
   "source": [
    "clk.fit(train_data, epochs=100)"
   ]
  },
  {
   "cell_type": "code",
   "execution_count": null,
   "metadata": {},
   "outputs": [],
   "source": []
  }
 ],
 "metadata": {
  "kernelspec": {
   "display_name": "Python 3",
   "language": "python",
   "name": "python3"
  },
  "language_info": {
   "codemirror_mode": {
    "name": "ipython",
    "version": 3
   },
   "file_extension": ".py",
   "mimetype": "text/x-python",
   "name": "python",
   "nbconvert_exporter": "python",
   "pygments_lexer": "ipython3",
   "version": "3.7.6"
  }
 },
 "nbformat": 4,
 "nbformat_minor": 4
}
