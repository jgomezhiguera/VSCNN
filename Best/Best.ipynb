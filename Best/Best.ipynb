{
 "cells": [
  {
   "cell_type": "code",
   "execution_count": 2,
   "metadata": {},
   "outputs": [],
   "source": [
    "import numpy as np\n",
    "import tensorflow as tf\n",
    "from tensorflow.python.keras.utils.data_utils import Sequence\n",
    "import autokeras as ak\n"
   ]
  },
  {
   "cell_type": "code",
   "execution_count": 3,
   "metadata": {
    "scrolled": true
   },
   "outputs": [],
   "source": [
    "path = '/home/jgomez/Documents/Us'"
   ]
  },
  {
   "cell_type": "code",
   "execution_count": 4,
   "metadata": {},
   "outputs": [],
   "source": [
    "train_dir = path + \"/train\"\n",
    "test_dir = path+\"/val\""
   ]
  },
  {
   "cell_type": "code",
   "execution_count": 5,
   "metadata": {},
   "outputs": [],
   "source": [
    "batch_size = 16\n",
    "img_height = 224\n",
    "img_width = 224"
   ]
  },
  {
   "cell_type": "code",
   "execution_count": 6,
   "metadata": {},
   "outputs": [
    {
     "name": "stdout",
     "output_type": "stream",
     "text": [
      "Found 23038 files belonging to 2 classes.\n",
      "Using 18431 files for training.\n"
     ]
    }
   ],
   "source": [
    "train_data = ak.image_dataset_from_directory(\n",
    "    train_dir,\n",
    "    # Use 20% data as testing data.\n",
    "    validation_split=0.2,\n",
    "    subset=\"training\",\n",
    "    # Set seed to ensure the same split when loading testing data.\n",
    "    seed=123,\n",
    "    image_size=(img_height, img_width),\n",
    "    batch_size=batch_size)"
   ]
  },
  {
   "cell_type": "code",
   "execution_count": 7,
   "metadata": {},
   "outputs": [
    {
     "name": "stdout",
     "output_type": "stream",
     "text": [
      "Found 1186 files belonging to 2 classes.\n",
      "Using 949 files for training.\n"
     ]
    }
   ],
   "source": [
    "test_data = ak.image_dataset_from_directory(\n",
    "    test_dir,\n",
    "    # Use 20% data as testing data.\n",
    "    validation_split=0.2,\n",
    "    subset=\"training\",\n",
    "    # Set seed to ensure the same split when loading testing data.\n",
    "    seed=123,\n",
    "    image_size=(img_height, img_width),\n",
    "    batch_size=batch_size)"
   ]
  },
  {
   "cell_type": "code",
   "execution_count": 8,
   "metadata": {},
   "outputs": [],
   "source": [
    "clf = ak.ImageClassifier(max_trials=1, overwrite=True)"
   ]
  },
  {
   "cell_type": "code",
   "execution_count": 9,
   "metadata": {},
   "outputs": [
    {
     "name": "stdout",
     "output_type": "stream",
     "text": [
      "Trial 1 Complete [04h 48m 13s]\n",
      "val_loss: 0.692214846611023\n",
      "\n",
      "Best val_loss So Far: 0.692214846611023\n",
      "Total elapsed time: 04h 48m 13s\n",
      "INFO:tensorflow:Oracle triggered exit\n",
      "Epoch 1/100\n",
      "1152/1152 [==============================] - 1664s 1s/step - loss: 0.7256 - accuracy: 0.5099\n",
      "Epoch 2/100\n",
      "1152/1152 [==============================] - 1664s 1s/step - loss: 0.6834 - accuracy: 0.5584\n",
      "Epoch 3/100\n",
      "1152/1152 [==============================] - 1663s 1s/step - loss: 0.6533 - accuracy: 0.6068\n",
      "Epoch 4/100\n",
      "1152/1152 [==============================] - 1661s 1s/step - loss: 0.5817 - accuracy: 0.6777\n",
      "Epoch 5/100\n",
      "1152/1152 [==============================] - 1663s 1s/step - loss: 0.5658 - accuracy: 0.6914\n",
      "Epoch 6/100\n",
      "1152/1152 [==============================] - 1664s 1s/step - loss: 0.4876 - accuracy: 0.7580\n",
      "Epoch 7/100\n",
      "1152/1152 [==============================] - 1667s 1s/step - loss: 0.4259 - accuracy: 0.8003\n",
      "Epoch 8/100\n",
      "1152/1152 [==============================] - 1662s 1s/step - loss: 0.3671 - accuracy: 0.8347\n",
      "Epoch 9/100\n",
      "1152/1152 [==============================] - 1665s 1s/step - loss: 0.3222 - accuracy: 0.8618\n",
      "Epoch 10/100\n",
      "1152/1152 [==============================] - 1661s 1s/step - loss: 0.2930 - accuracy: 0.8778\n",
      "Epoch 11/100\n",
      "1152/1152 [==============================] - 1665s 1s/step - loss: 0.2796 - accuracy: 0.8880\n",
      "Epoch 12/100\n",
      "1152/1152 [==============================] - 1663s 1s/step - loss: 0.2470 - accuracy: 0.9050\n",
      "Epoch 13/100\n",
      "1152/1152 [==============================] - 1713s 1s/step - loss: 0.2226 - accuracy: 0.9149\n",
      "Epoch 14/100\n",
      "1152/1152 [==============================] - 1967s 2s/step - loss: 0.2092 - accuracy: 0.9219\n",
      "Epoch 15/100\n",
      "1152/1152 [==============================] - 1664s 1s/step - loss: 0.2136 - accuracy: 0.9202\n",
      "Epoch 16/100\n",
      "1152/1152 [==============================] - 1660s 1s/step - loss: 0.1855 - accuracy: 0.9320\n",
      "Epoch 17/100\n",
      "1152/1152 [==============================] - 1659s 1s/step - loss: 0.1773 - accuracy: 0.9371\n",
      "Epoch 18/100\n",
      "1152/1152 [==============================] - 1668s 1s/step - loss: 0.1601 - accuracy: 0.9424\n",
      "Epoch 19/100\n",
      "1152/1152 [==============================] - 1667s 1s/step - loss: 0.1553 - accuracy: 0.9436\n",
      "Epoch 20/100\n",
      "1152/1152 [==============================] - 1661s 1s/step - loss: 0.1469 - accuracy: 0.9483\n",
      "Epoch 21/100\n",
      "1152/1152 [==============================] - 1661s 1s/step - loss: 0.1484 - accuracy: 0.9497\n",
      "Epoch 22/100\n",
      "1152/1152 [==============================] - 1663s 1s/step - loss: 0.1457 - accuracy: 0.9527\n",
      "Epoch 23/100\n",
      "1152/1152 [==============================] - 1662s 1s/step - loss: 0.1388 - accuracy: 0.9521\n",
      "Epoch 24/100\n",
      "1152/1152 [==============================] - 1670s 1s/step - loss: 0.1326 - accuracy: 0.9557\n",
      "Epoch 25/100\n",
      "1152/1152 [==============================] - 1663s 1s/step - loss: 0.1262 - accuracy: 0.9577\n",
      "Epoch 26/100\n",
      "1152/1152 [==============================] - 1666s 1s/step - loss: 0.1322 - accuracy: 0.9560\n",
      "Epoch 27/100\n",
      "1152/1152 [==============================] - 1661s 1s/step - loss: 0.1243 - accuracy: 0.9574\n",
      "Epoch 28/100\n",
      "1152/1152 [==============================] - 1659s 1s/step - loss: 0.1248 - accuracy: 0.9588\n",
      "Epoch 29/100\n",
      "1152/1152 [==============================] - 1661s 1s/step - loss: 0.1210 - accuracy: 0.9619\n",
      "Epoch 30/100\n",
      "1152/1152 [==============================] - 1659s 1s/step - loss: 0.1165 - accuracy: 0.9621\n",
      "Epoch 31/100\n",
      "1152/1152 [==============================] - 1658s 1s/step - loss: 0.1115 - accuracy: 0.9636\n",
      "Epoch 32/100\n",
      "1152/1152 [==============================] - 1664s 1s/step - loss: 0.1086 - accuracy: 0.9647\n",
      "Epoch 33/100\n",
      "1152/1152 [==============================] - 1661s 1s/step - loss: 0.1027 - accuracy: 0.9675\n",
      "Epoch 34/100\n",
      "1152/1152 [==============================] - 1659s 1s/step - loss: 0.1050 - accuracy: 0.9658\n",
      "Epoch 35/100\n",
      "1152/1152 [==============================] - 1665s 1s/step - loss: 0.1048 - accuracy: 0.9685\n",
      "Epoch 36/100\n",
      "1152/1152 [==============================] - 1668s 1s/step - loss: 0.0998 - accuracy: 0.9670\n",
      "Epoch 37/100\n",
      "1152/1152 [==============================] - 1663s 1s/step - loss: 0.0936 - accuracy: 0.9703\n",
      "Epoch 38/100\n",
      "1152/1152 [==============================] - 1661s 1s/step - loss: 0.0953 - accuracy: 0.9680\n",
      "Epoch 39/100\n",
      "1152/1152 [==============================] - 1666s 1s/step - loss: 0.1016 - accuracy: 0.9677\n",
      "Epoch 40/100\n",
      "1152/1152 [==============================] - 1665s 1s/step - loss: 0.0988 - accuracy: 0.9682\n",
      "Epoch 41/100\n",
      "1152/1152 [==============================] - 1669s 1s/step - loss: 0.0921 - accuracy: 0.9710\n",
      "Epoch 42/100\n",
      "1152/1152 [==============================] - 1679s 1s/step - loss: 0.0909 - accuracy: 0.9715\n",
      "Epoch 43/100\n",
      "1152/1152 [==============================] - 1688s 1s/step - loss: 0.0917 - accuracy: 0.9715\n",
      "Epoch 44/100\n",
      "1152/1152 [==============================] - 1684s 1s/step - loss: 0.0914 - accuracy: 0.9713\n",
      "Epoch 45/100\n",
      "1152/1152 [==============================] - 1683s 1s/step - loss: 0.0844 - accuracy: 0.9739\n",
      "Epoch 46/100\n",
      "1152/1152 [==============================] - 1681s 1s/step - loss: 0.0934 - accuracy: 0.9720\n",
      "Epoch 47/100\n",
      "1152/1152 [==============================] - 1679s 1s/step - loss: 0.0880 - accuracy: 0.9746\n",
      "Epoch 48/100\n",
      "1152/1152 [==============================] - 1679s 1s/step - loss: 0.0951 - accuracy: 0.9712\n",
      "Epoch 49/100\n",
      "1152/1152 [==============================] - 1675s 1s/step - loss: 0.0846 - accuracy: 0.9747\n",
      "Epoch 50/100\n",
      "1152/1152 [==============================] - 1679s 1s/step - loss: 0.0806 - accuracy: 0.9741\n",
      "Epoch 51/100\n",
      "1152/1152 [==============================] - 1683s 1s/step - loss: 0.0815 - accuracy: 0.9748\n",
      "Epoch 52/100\n",
      "1152/1152 [==============================] - 1681s 1s/step - loss: 0.0853 - accuracy: 0.9755\n",
      "Epoch 53/100\n",
      "1152/1152 [==============================] - 1683s 1s/step - loss: 0.0770 - accuracy: 0.9760\n",
      "Epoch 54/100\n",
      "1152/1152 [==============================] - 1683s 1s/step - loss: 0.0787 - accuracy: 0.9757\n",
      "Epoch 55/100\n",
      "1152/1152 [==============================] - 1678s 1s/step - loss: 0.0775 - accuracy: 0.9763\n",
      "Epoch 56/100\n",
      "1152/1152 [==============================] - 1680s 1s/step - loss: 0.0748 - accuracy: 0.9774\n",
      "Epoch 57/100\n",
      "1152/1152 [==============================] - 1676s 1s/step - loss: 0.0740 - accuracy: 0.9770\n",
      "Epoch 58/100\n",
      "1152/1152 [==============================] - 1682s 1s/step - loss: 0.0848 - accuracy: 0.9758\n",
      "Epoch 59/100\n",
      "1152/1152 [==============================] - 1683s 1s/step - loss: 0.0802 - accuracy: 0.9755\n",
      "Epoch 60/100\n",
      "1152/1152 [==============================] - 1683s 1s/step - loss: 0.0747 - accuracy: 0.9788\n",
      "Epoch 61/100\n",
      "1152/1152 [==============================] - 1681s 1s/step - loss: 0.0810 - accuracy: 0.9774\n",
      "Epoch 62/100\n",
      "1152/1152 [==============================] - 1678s 1s/step - loss: 0.0707 - accuracy: 0.9781\n",
      "Epoch 63/100\n",
      "1152/1152 [==============================] - 1684s 1s/step - loss: 0.0735 - accuracy: 0.9778\n",
      "Epoch 64/100\n",
      "1152/1152 [==============================] - 1683s 1s/step - loss: 0.0743 - accuracy: 0.9797\n",
      "Epoch 65/100\n",
      "1152/1152 [==============================] - 1945s 2s/step - loss: 0.0815 - accuracy: 0.9766\n",
      "Epoch 66/100\n",
      "1152/1152 [==============================] - 1717s 1s/step - loss: 0.0662 - accuracy: 0.9807\n",
      "Epoch 67/100\n",
      "1152/1152 [==============================] - 1676s 1s/step - loss: 0.0752 - accuracy: 0.9776\n",
      "Epoch 68/100\n",
      "1152/1152 [==============================] - 1672s 1s/step - loss: 0.0833 - accuracy: 0.9777\n",
      "Epoch 69/100\n",
      "1152/1152 [==============================] - 1671s 1s/step - loss: 0.0684 - accuracy: 0.9805\n",
      "Epoch 70/100\n",
      "1152/1152 [==============================] - 1669s 1s/step - loss: 0.0758 - accuracy: 0.9793\n",
      "Epoch 71/100\n",
      "1152/1152 [==============================] - 1675s 1s/step - loss: 0.0687 - accuracy: 0.9799\n",
      "Epoch 72/100\n",
      "1152/1152 [==============================] - 1671s 1s/step - loss: 0.0704 - accuracy: 0.9800\n",
      "Epoch 73/100\n",
      "1152/1152 [==============================] - 1668s 1s/step - loss: 0.0683 - accuracy: 0.9798\n",
      "Epoch 74/100\n",
      "1152/1152 [==============================] - 1668s 1s/step - loss: 0.0767 - accuracy: 0.9786\n",
      "Epoch 75/100\n",
      "1152/1152 [==============================] - 1673s 1s/step - loss: 0.0720 - accuracy: 0.9789\n",
      "Epoch 76/100\n"
     ]
    },
    {
     "name": "stdout",
     "output_type": "stream",
     "text": [
      "1152/1152 [==============================] - 1666s 1s/step - loss: 0.0675 - accuracy: 0.9806\n",
      "Epoch 77/100\n",
      "1152/1152 [==============================] - 1671s 1s/step - loss: 0.0694 - accuracy: 0.9799\n",
      "Epoch 78/100\n",
      "1152/1152 [==============================] - 1669s 1s/step - loss: 0.0650 - accuracy: 0.9827\n",
      "Epoch 79/100\n",
      "1152/1152 [==============================] - 1674s 1s/step - loss: 0.0792 - accuracy: 0.9795\n",
      "Epoch 80/100\n",
      "1152/1152 [==============================] - 1669s 1s/step - loss: 0.0583 - accuracy: 0.9820\n",
      "Epoch 81/100\n",
      "1152/1152 [==============================] - 1663s 1s/step - loss: 0.0628 - accuracy: 0.9817\n",
      "Epoch 82/100\n",
      "1152/1152 [==============================] - 1661s 1s/step - loss: 0.0657 - accuracy: 0.9819\n",
      "Epoch 83/100\n",
      "1152/1152 [==============================] - 1665s 1s/step - loss: 0.0646 - accuracy: 0.9821\n",
      "Epoch 84/100\n",
      "1152/1152 [==============================] - 1664s 1s/step - loss: 0.0695 - accuracy: 0.9807\n",
      "Epoch 85/100\n",
      "1152/1152 [==============================] - 1663s 1s/step - loss: 0.0651 - accuracy: 0.9822\n",
      "Epoch 86/100\n",
      "1152/1152 [==============================] - 1666s 1s/step - loss: 0.0696 - accuracy: 0.9810\n",
      "Epoch 87/100\n",
      "1152/1152 [==============================] - 1665s 1s/step - loss: 0.0616 - accuracy: 0.9818\n",
      "Epoch 88/100\n",
      "1152/1152 [==============================] - 1669s 1s/step - loss: 0.0608 - accuracy: 0.9820\n",
      "Epoch 89/100\n",
      "1152/1152 [==============================] - 1677s 1s/step - loss: 0.0623 - accuracy: 0.9829\n",
      "Epoch 90/100\n",
      "1152/1152 [==============================] - 1666s 1s/step - loss: 0.0627 - accuracy: 0.9832\n",
      "Epoch 91/100\n",
      "1152/1152 [==============================] - 1670s 1s/step - loss: 0.0579 - accuracy: 0.9837\n",
      "Epoch 92/100\n",
      "1152/1152 [==============================] - 1661s 1s/step - loss: 0.0664 - accuracy: 0.9814\n",
      "Epoch 93/100\n",
      "1152/1152 [==============================] - 1671s 1s/step - loss: 0.0721 - accuracy: 0.9804\n",
      "Epoch 94/100\n",
      "1152/1152 [==============================] - 1667s 1s/step - loss: 0.0662 - accuracy: 0.9821\n",
      "Epoch 95/100\n",
      "1152/1152 [==============================] - 1672s 1s/step - loss: 0.0672 - accuracy: 0.9831\n",
      "Epoch 96/100\n",
      "1152/1152 [==============================] - 1664s 1s/step - loss: 0.0554 - accuracy: 0.9837\n",
      "Epoch 97/100\n",
      "1152/1152 [==============================] - 1672s 1s/step - loss: 0.0669 - accuracy: 0.9821\n",
      "Epoch 98/100\n",
      "1152/1152 [==============================] - 1666s 1s/step - loss: 0.0691 - accuracy: 0.9822\n",
      "Epoch 99/100\n",
      "1152/1152 [==============================] - 1664s 1s/step - loss: 0.0631 - accuracy: 0.9827\n",
      "Epoch 100/100\n",
      "1152/1152 [==============================] - 1664s 1s/step - loss: 0.0568 - accuracy: 0.9829\n",
      "WARNING:tensorflow:From /home/jgomez/anaconda3/lib/python3.8/site-packages/tensorflow/python/training/tracking/tracking.py:111: Model.state_updates (from tensorflow.python.keras.engine.training) is deprecated and will be removed in a future version.\n",
      "Instructions for updating:\n",
      "This property should not be used in TensorFlow 2.0, as updates are applied automatically.\n",
      "WARNING:tensorflow:From /home/jgomez/anaconda3/lib/python3.8/site-packages/tensorflow/python/training/tracking/tracking.py:111: Layer.updates (from tensorflow.python.keras.engine.base_layer) is deprecated and will be removed in a future version.\n",
      "Instructions for updating:\n",
      "This property should not be used in TensorFlow 2.0, as updates are applied automatically.\n",
      "INFO:tensorflow:Assets written to: ./image_classifier/best_model/assets\n"
     ]
    }
   ],
   "source": [
    "clf.fit(train_data, epochs=100)"
   ]
  },
  {
   "cell_type": "code",
   "execution_count": 16,
   "metadata": {},
   "outputs": [],
   "source": [
    "model = clf.export_model()"
   ]
  },
  {
   "cell_type": "code",
   "execution_count": 17,
   "metadata": {},
   "outputs": [
    {
     "name": "stdout",
     "output_type": "stream",
     "text": [
      "INFO:tensorflow:Assets written to: model_ak/assets\n"
     ]
    }
   ],
   "source": [
    "model.save(\"model_ak\", save_format=\"tf\")"
   ]
  },
  {
   "cell_type": "code",
   "execution_count": 18,
   "metadata": {},
   "outputs": [],
   "source": [
    "model.save(\"model_ak.h5\")"
   ]
  },
  {
   "cell_type": "code",
   "execution_count": 19,
   "metadata": {},
   "outputs": [
    {
     "data": {
      "text/plain": [
       "['__class__',\n",
       " '__delattr__',\n",
       " '__dict__',\n",
       " '__dir__',\n",
       " '__doc__',\n",
       " '__eq__',\n",
       " '__format__',\n",
       " '__ge__',\n",
       " '__getattribute__',\n",
       " '__gt__',\n",
       " '__hash__',\n",
       " '__init__',\n",
       " '__init_subclass__',\n",
       " '__le__',\n",
       " '__lt__',\n",
       " '__module__',\n",
       " '__ne__',\n",
       " '__new__',\n",
       " '__reduce__',\n",
       " '__reduce_ex__',\n",
       " '__repr__',\n",
       " '__setattr__',\n",
       " '__sizeof__',\n",
       " '__str__',\n",
       " '__subclasshook__',\n",
       " '__weakref__',\n",
       " '_adapt',\n",
       " '_analyze_data',\n",
       " '_assemble',\n",
       " '_build_graph',\n",
       " '_build_hyper_pipeline',\n",
       " '_check_data_format',\n",
       " '_convert_to_dataset',\n",
       " '_has_y',\n",
       " '_heads',\n",
       " 'directory',\n",
       " 'evaluate',\n",
       " 'export_model',\n",
       " 'fit',\n",
       " 'inputs',\n",
       " 'max_trials',\n",
       " 'objective',\n",
       " 'outputs',\n",
       " 'overwrite',\n",
       " 'predict',\n",
       " 'project_name',\n",
       " 'seed',\n",
       " 'tuner']"
      ]
     },
     "execution_count": 19,
     "metadata": {},
     "output_type": "execute_result"
    }
   ],
   "source": [
    "dir(clf)"
   ]
  },
  {
   "cell_type": "code",
   "execution_count": null,
   "metadata": {},
   "outputs": [],
   "source": []
  }
 ],
 "metadata": {
  "kernelspec": {
   "display_name": "Python 3",
   "language": "python",
   "name": "python3"
  },
  "language_info": {
   "codemirror_mode": {
    "name": "ipython",
    "version": 3
   },
   "file_extension": ".py",
   "mimetype": "text/x-python",
   "name": "python",
   "nbconvert_exporter": "python",
   "pygments_lexer": "ipython3",
   "version": "3.8.5"
  }
 },
 "nbformat": 4,
 "nbformat_minor": 4
}
