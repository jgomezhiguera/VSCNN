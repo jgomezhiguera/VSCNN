{
 "cells": [
  {
   "cell_type": "code",
   "execution_count": 4,
   "metadata": {},
   "outputs": [],
   "source": [
    "import tensorflow as tf\n",
    "import os\n",
    "import numpy as np\n",
    "from matplotlib import pyplot as plt\n",
    "%matplotlib inline"
   ]
  },
  {
   "cell_type": "code",
   "execution_count": 5,
   "metadata": {},
   "outputs": [],
   "source": [
    "from tensorflow.keras.models import Model, Sequential\n",
    "from tensorflow.keras.layers import Dense, Flatten, Dropout, MaxPooling2D\n",
    "from tensorflow.keras.applications import inception_resnet_v2\n",
    "#from tensorflow.keras.applications.vgg16 import preprocess_input, decode_predictions\n",
    "from tensorflow.keras.preprocessing.image import ImageDataGenerator\n",
    "from tensorflow.keras.optimizers import Adam, RMSprop\n",
    "from keras import regularizers"
   ]
  },
  {
   "cell_type": "code",
   "execution_count": 6,
   "metadata": {},
   "outputs": [],
   "source": [
    "datagen_train = ImageDataGenerator(\n",
    "    rescale=1./255,\n",
    "      rotation_range=180,\n",
    "      width_shift_range=0.1,\n",
    "      height_shift_range=0.1,\n",
    "      shear_range=0.1,\n",
    "      zoom_range=[0.9, 1.5],\n",
    "      horizontal_flip=True,\n",
    "      vertical_flip=True,\n",
    "      fill_mode='nearest')"
   ]
  },
  {
   "cell_type": "code",
   "execution_count": 7,
   "metadata": {},
   "outputs": [],
   "source": [
    "path = '/home/jgomez/Documents/Us'"
   ]
  },
  {
   "cell_type": "code",
   "execution_count": 8,
   "metadata": {},
   "outputs": [],
   "source": [
    "train_dir = path + \"/train\"\n",
    "test_dir = path+\"/val\""
   ]
  },
  {
   "cell_type": "code",
   "execution_count": 9,
   "metadata": {},
   "outputs": [],
   "source": [
    "batch_size = 8\n",
    "img_height = 224\n",
    "img_width = 224"
   ]
  },
  {
   "cell_type": "code",
   "execution_count": 10,
   "metadata": {},
   "outputs": [
    {
     "name": "stdout",
     "output_type": "stream",
     "text": [
      "Model: \"sequential\"\n",
      "_________________________________________________________________\n",
      "Layer (type)                 Output Shape              Param #   \n",
      "=================================================================\n",
      "conv2d (Conv2D)              (None, 56, 56, 96)        34944     \n",
      "_________________________________________________________________\n",
      "batch_normalization (BatchNo (None, 56, 56, 96)        384       \n",
      "_________________________________________________________________\n",
      "max_pooling2d (MaxPooling2D) (None, 28, 28, 96)        0         \n",
      "_________________________________________________________________\n",
      "conv2d_1 (Conv2D)            (None, 28, 28, 256)       614656    \n",
      "_________________________________________________________________\n",
      "batch_normalization_1 (Batch (None, 28, 28, 256)       1024      \n",
      "_________________________________________________________________\n",
      "max_pooling2d_1 (MaxPooling2 (None, 14, 14, 256)       0         \n",
      "_________________________________________________________________\n",
      "zero_padding2d (ZeroPadding2 (None, 16, 16, 256)       0         \n",
      "_________________________________________________________________\n",
      "conv2d_2 (Conv2D)            (None, 16, 16, 512)       1180160   \n",
      "_________________________________________________________________\n",
      "batch_normalization_2 (Batch (None, 16, 16, 512)       2048      \n",
      "_________________________________________________________________\n",
      "max_pooling2d_2 (MaxPooling2 (None, 8, 8, 512)         0         \n",
      "_________________________________________________________________\n",
      "zero_padding2d_1 (ZeroPaddin (None, 10, 10, 512)       0         \n",
      "_________________________________________________________________\n",
      "conv2d_3 (Conv2D)            (None, 10, 10, 1024)      4719616   \n",
      "_________________________________________________________________\n",
      "batch_normalization_3 (Batch (None, 10, 10, 1024)      4096      \n",
      "_________________________________________________________________\n",
      "zero_padding2d_2 (ZeroPaddin (None, 12, 12, 1024)      0         \n",
      "_________________________________________________________________\n",
      "conv2d_4 (Conv2D)            (None, 12, 12, 1024)      9438208   \n",
      "_________________________________________________________________\n",
      "batch_normalization_4 (Batch (None, 12, 12, 1024)      4096      \n",
      "_________________________________________________________________\n",
      "max_pooling2d_3 (MaxPooling2 (None, 6, 6, 1024)        0         \n",
      "_________________________________________________________________\n",
      "flatten (Flatten)            (None, 36864)             0         \n",
      "_________________________________________________________________\n",
      "dense (Dense)                (None, 3072)              113249280 \n",
      "_________________________________________________________________\n",
      "batch_normalization_5 (Batch (None, 3072)              12288     \n",
      "_________________________________________________________________\n",
      "dropout (Dropout)            (None, 3072)              0         \n",
      "_________________________________________________________________\n",
      "dense_1 (Dense)              (None, 4096)              12587008  \n",
      "_________________________________________________________________\n",
      "batch_normalization_6 (Batch (None, 4096)              16384     \n",
      "_________________________________________________________________\n",
      "dropout_1 (Dropout)          (None, 4096)              0         \n",
      "_________________________________________________________________\n",
      "dense_2 (Dense)              (None, 4608)              18878976  \n",
      "_________________________________________________________________\n",
      "batch_normalization_7 (Batch (None, 4608)              18432     \n",
      "_________________________________________________________________\n",
      "dropout_2 (Dropout)          (None, 4608)              0         \n",
      "_________________________________________________________________\n",
      "dense_3 (Dense)              (None, 2)                 9218      \n",
      "=================================================================\n",
      "Total params: 160,770,818\n",
      "Trainable params: 160,741,442\n",
      "Non-trainable params: 29,376\n",
      "_________________________________________________________________\n"
     ]
    }
   ],
   "source": [
    "from tensorflow.keras.layers import Conv2D, MaxPooling2D, BatchNormalization, ZeroPadding2D\n",
    "from tensorflow.keras.layers import Dropout, Flatten, Input, Dense\n",
    "\n",
    "def create_model():\n",
    "    \n",
    "    def add_conv_block(model):\n",
    "        model.add(Conv2D(96, 11, activation='relu', padding='same', kernel_regularizer=regularizers.l2(0.01)))\n",
    "        model.add(BatchNormalization())\n",
    "        model.add(MaxPooling2D(pool_size=2))\n",
    "        model.add(Conv2D(256, 5, activation='relu', padding='same'))\n",
    "        model.add(BatchNormalization())\n",
    "        model.add(MaxPooling2D(pool_size=2))\n",
    "        model.add(ZeroPadding2D((1, 1)))\n",
    "        model.add(Conv2D(512, 3, activation='relu', padding='same'))\n",
    "        model.add(BatchNormalization())\n",
    "        model.add(MaxPooling2D(pool_size=2))\n",
    "        model.add(ZeroPadding2D((1, 1)))\n",
    "        model.add(Conv2D(1024, 3, activation='relu', padding='same'))\n",
    "        model.add(BatchNormalization())\n",
    "        model.add(ZeroPadding2D((1, 1)))\n",
    "        model.add(Conv2D(1024, 3, activation='relu', padding='same'))\n",
    "        model.add(BatchNormalization())\n",
    "        model.add(MaxPooling2D(pool_size=2))\n",
    "        model.add(Flatten())\n",
    "        model.add(Dense(3072, activation='relu'))\n",
    "        model.add(BatchNormalization())\n",
    "        model.add(Dropout(0.5))\n",
    "        model.add(Dense(4096, activation='relu'))\n",
    "        model.add(BatchNormalization())\n",
    "        model.add(Dropout(0.5))\n",
    "        model.add(Dense(4608, activation='relu'))\n",
    "        model.add(BatchNormalization())\n",
    "        model.add(Dropout(0.5))\n",
    "        model.add(Dense(2))\n",
    "        return model\n",
    "    \n",
    "    model = tf.keras.models.Sequential()\n",
    "    model.add(Input(shape=(56, 56, 3)))\n",
    "    model = add_conv_block(model)\n",
    "    \n",
    "\n",
    "    model.compile(loss='categorical_crossentropy', optimizer='adam', metrics=['accuracy'])\n",
    "    return model\n",
    "\n",
    "model = create_model()\n",
    "model.summary()"
   ]
  },
  {
   "cell_type": "code",
   "execution_count": 11,
   "metadata": {},
   "outputs": [
    {
     "data": {
      "text/plain": [
       "(56, 56)"
      ]
     },
     "execution_count": 11,
     "metadata": {},
     "output_type": "execute_result"
    }
   ],
   "source": [
    "input_shape = model.layers[0].output_shape[1:3]\n",
    "input_shape"
   ]
  },
  {
   "cell_type": "code",
   "execution_count": 12,
   "metadata": {},
   "outputs": [
    {
     "name": "stdout",
     "output_type": "stream",
     "text": [
      "Found 45646 images belonging to 2 classes.\n"
     ]
    }
   ],
   "source": [
    "generator_train = datagen_train.flow_from_directory(directory=train_dir,\n",
    "                                                    target_size=input_shape,\n",
    "                                                    batch_size=batch_size,\n",
    "                                                    shuffle=True)"
   ]
  },
  {
   "cell_type": "code",
   "execution_count": 13,
   "metadata": {},
   "outputs": [],
   "source": [
    "datagen_test = ImageDataGenerator(rescale=1./255)"
   ]
  },
  {
   "cell_type": "code",
   "execution_count": 14,
   "metadata": {},
   "outputs": [
    {
     "name": "stdout",
     "output_type": "stream",
     "text": [
      "Found 1194 images belonging to 2 classes.\n"
     ]
    }
   ],
   "source": [
    "generator_test = datagen_test.flow_from_directory(directory=test_dir,\n",
    "                                                  target_size=input_shape,\n",
    "                                                  batch_size=batch_size,\n",
    "                                                  shuffle=False)"
   ]
  },
  {
   "cell_type": "code",
   "execution_count": 15,
   "metadata": {},
   "outputs": [
    {
     "name": "stdout",
     "output_type": "stream",
     "text": [
      "Epoch 1/50\n",
      "5706/5706 [==============================] - 2933s 514ms/step - loss: 1.3238 - accuracy: 0.4998 - val_loss: 0.9314 - val_accuracy: 0.5126\n",
      "Epoch 2/50\n",
      "5706/5706 [==============================] - 2908s 510ms/step - loss: 0.8704 - accuracy: 0.4978 - val_loss: 1.2068 - val_accuracy: 0.5000\n",
      "Epoch 3/50\n",
      "5706/5706 [==============================] - 2924s 512ms/step - loss: 1.0623 - accuracy: 0.5026 - val_loss: 0.9713 - val_accuracy: 0.4841\n",
      "Epoch 4/50\n",
      "5706/5706 [==============================] - 2926s 513ms/step - loss: 1.0890 - accuracy: 0.5028 - val_loss: 0.9684 - val_accuracy: 0.4816\n",
      "Epoch 5/50\n",
      "5706/5706 [==============================] - 2936s 514ms/step - loss: 0.9819 - accuracy: 0.4909 - val_loss: 0.9478 - val_accuracy: 0.5067\n",
      "Epoch 6/50\n",
      "5706/5706 [==============================] - 2938s 515ms/step - loss: 0.9650 - accuracy: 0.5050 - val_loss: 0.9974 - val_accuracy: 0.5050\n",
      "Epoch 7/50\n",
      "5706/5706 [==============================] - 2943s 516ms/step - loss: 0.9547 - accuracy: 0.4999 - val_loss: 0.8705 - val_accuracy: 0.5034\n",
      "Epoch 8/50\n",
      "5706/5706 [==============================] - 2939s 515ms/step - loss: 0.8902 - accuracy: 0.4928 - val_loss: 0.8676 - val_accuracy: 0.4874\n",
      "Epoch 9/50\n",
      "5706/5706 [==============================] - 2947s 517ms/step - loss: 0.8909 - accuracy: 0.5018 - val_loss: 0.8323 - val_accuracy: 0.4858\n",
      "Epoch 10/50\n",
      "5706/5706 [==============================] - 2955s 518ms/step - loss: 0.8651 - accuracy: 0.4950 - val_loss: 0.9159 - val_accuracy: 0.5050\n",
      "Epoch 11/50\n",
      "5706/5706 [==============================] - 2956s 518ms/step - loss: 0.8900 - accuracy: 0.5012 - val_loss: 0.9036 - val_accuracy: 0.5034\n",
      "Epoch 12/50\n",
      "5706/5706 [==============================] - 2971s 521ms/step - loss: 0.8974 - accuracy: 0.5014 - val_loss: 0.8980 - val_accuracy: 0.5067\n",
      "Epoch 13/50\n",
      "5706/5706 [==============================] - 2960s 519ms/step - loss: 0.8731 - accuracy: 0.4988 - val_loss: 0.8112 - val_accuracy: 0.4866\n",
      "Epoch 14/50\n",
      "5706/5706 [==============================] - 2956s 518ms/step - loss: 0.8435 - accuracy: 0.4948 - val_loss: 0.8383 - val_accuracy: 0.4841\n",
      "Epoch 15/50\n",
      "5706/5706 [==============================] - 2950s 517ms/step - loss: 0.8559 - accuracy: 0.5025 - val_loss: 0.8041 - val_accuracy: 0.4891\n",
      "Epoch 16/50\n",
      "5706/5706 [==============================] - 2668s 468ms/step - loss: 0.8617 - accuracy: 0.4994 - val_loss: 0.8768 - val_accuracy: 0.4849\n"
     ]
    }
   ],
   "source": [
    "h = model.fit(\n",
    "    generator_train,\n",
    "    validation_data=generator_test,\n",
    "    epochs=50, \n",
    "    callbacks=[\n",
    "        tf.keras.callbacks.EarlyStopping(monitor='val_accuracy', patience=15),\n",
    "        tf.keras.callbacks.ModelCheckpoint('models/model_{val_accuracy:.3f}.h5', save_best_only=True,\n",
    "                                          save_weights_only=False, monitor='val_accuracy')\n",
    "    ]\n",
    ")"
   ]
  },
  {
   "cell_type": "code",
   "execution_count": 16,
   "metadata": {},
   "outputs": [
    {
     "data": {
      "image/png": "[encoded data removed]",
      "text/plain": [
       "<Figure size 432x288 with 1 Axes>"
      ]
     },
     "metadata": {
      "needs_background": "light"
     },
     "output_type": "display_data"
    }
   ],
   "source": [
    "plt.plot(h.history['accuracy'])\n",
    "plt.plot(h.history['val_accuracy'])\n",
    "plt.title('model accuracy')\n",
    "plt.ylabel('accuracy')\n",
    "plt.xlabel('epoch')\n",
    "plt.legend(['train', 'val'], loc='upper left')\n",
    "plt.show()"
   ]
  },
  {
   "cell_type": "code",
   "execution_count": 18,
   "metadata": {},
   "outputs": [
    {
     "data": {
      "image/png": "[encoded data removed]",
      "text/plain": [
       "<Figure size 432x288 with 1 Axes>"
      ]
     },
     "metadata": {
      "needs_background": "light"
     },
     "output_type": "display_data"
    }
   ],
   "source": [
    "plt.plot(h.history['loss'])\n",
    "plt.plot(h.history['val_loss'])\n",
    "plt.title('model loss')\n",
    "plt.ylabel('loss')\n",
    "plt.xlabel('epoch')\n",
    "plt.legend(['train', 'val'], loc='upper left')\n",
    "plt.show()"
   ]
  }
 ],
 "metadata": {
  "kernelspec": {
   "display_name": "Python 3",
   "language": "python",
   "name": "python3"
  },
  "language_info": {
   "codemirror_mode": {
    "name": "ipython",
    "version": 3
   },
   "file_extension": ".py",
   "mimetype": "text/x-python",
   "name": "python",
   "nbconvert_exporter": "python",
   "pygments_lexer": "ipython3",
   "version": "3.8.5"
  }
 },
 "nbformat": 4,
 "nbformat_minor": 4
}
