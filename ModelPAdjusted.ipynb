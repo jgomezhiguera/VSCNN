{
 "cells": [
  {
   "cell_type": "code",
   "execution_count": 1,
   "metadata": {
    "id": "6Azr0MGtE0mc"
   },
   "outputs": [],
   "source": [
    "import tensorflow as tf\n",
    "import os\n",
    "import numpy as np\n",
    "\n",
    "from matplotlib import pyplot as plt\n",
    "%matplotlib inline\n"
   ]
  },
  {
   "cell_type": "code",
   "execution_count": 2,
   "metadata": {
    "id": "rTCL_XZSFrTW"
   },
   "outputs": [],
   "source": [
    "from tensorflow.keras.models import Model, Sequential\n",
    "from tensorflow.keras.layers import Dense, Flatten, Dropout, MaxPooling2D\n",
    "from tensorflow.keras.applications import inception_resnet_v2\n",
    "#from tensorflow.keras.applications.vgg16 import preprocess_input, decode_predictions\n",
    "from tensorflow.keras.preprocessing.image import ImageDataGenerator\n",
    "from tensorflow.keras.optimizers import Adam, RMSprop\n",
    "\n",
    "from tensorflow.keras.layers import Conv2D, MaxPooling2D, BatchNormalization\n",
    "from tensorflow.keras.layers import Dropout, Flatten, Input, Dense\n",
    "from keras import regularizers\n",
    "from keras import initializers"
   ]
  },
  {
   "cell_type": "code",
   "execution_count": 3,
   "metadata": {
    "colab": {
     "base_uri": "https://localhost:8080/"
    },
    "id": "L_oLVpDtFtBV",
    "outputId": "2362f49a-e916-463e-8fc6-abbc8195d3db"
   },
   "outputs": [],
   "source": [
    "path = '/home/jgomez/Documents/Us'"
   ]
  },
  {
   "cell_type": "code",
   "execution_count": 4,
   "metadata": {
    "id": "lSaTAq7AF2p1"
   },
   "outputs": [],
   "source": [
    "train_dir = path + \"/train\"\n",
    "test_dir = path + \"/val\""
   ]
  },
  {
   "cell_type": "code",
   "execution_count": 5,
   "metadata": {
    "id": "PqLhw3wAF6P2"
   },
   "outputs": [],
   "source": [
    "datagen_train = ImageDataGenerator(\n",
    "    rescale=1./255,\n",
    "      rotation_range=180,\n",
    "      width_shift_range=0.1,\n",
    "      height_shift_range=0.1,\n",
    "      shear_range=0.1,\n",
    "      zoom_range=[0.9, 1.5],\n",
    "      horizontal_flip=True,\n",
    "      vertical_flip=True,\n",
    "      fill_mode='nearest')"
   ]
  },
  {
   "cell_type": "code",
   "execution_count": 6,
   "metadata": {
    "colab": {
     "base_uri": "https://localhost:8080/"
    },
    "id": "Yr_W4MlSF8Am",
    "outputId": "405f19e2-38ff-45d0-f8c9-0fd25ee05cff"
   },
   "outputs": [
    {
     "name": "stdout",
     "output_type": "stream",
     "text": [
      "Model: \"sequential\"\n",
      "_________________________________________________________________\n",
      "Layer (type)                 Output Shape              Param #   \n",
      "=================================================================\n",
      "conv2d (Conv2D)              (None, 224, 224, 32)      896       \n",
      "_________________________________________________________________\n",
      "max_pooling2d (MaxPooling2D) (None, 112, 112, 32)      0         \n",
      "_________________________________________________________________\n",
      "conv2d_1 (Conv2D)            (None, 110, 110, 32)      9248      \n",
      "_________________________________________________________________\n",
      "max_pooling2d_1 (MaxPooling2 (None, 55, 55, 32)        0         \n",
      "_________________________________________________________________\n",
      "conv2d_2 (Conv2D)            (None, 53, 53, 32)        9248      \n",
      "_________________________________________________________________\n",
      "batch_normalization (BatchNo (None, 53, 53, 32)        128       \n",
      "_________________________________________________________________\n",
      "conv2d_3 (Conv2D)            (None, 51, 51, 32)        9248      \n",
      "_________________________________________________________________\n",
      "batch_normalization_1 (Batch (None, 51, 51, 32)        128       \n",
      "_________________________________________________________________\n",
      "conv2d_4 (Conv2D)            (None, 49, 49, 32)        9248      \n",
      "_________________________________________________________________\n",
      "max_pooling2d_2 (MaxPooling2 (None, 24, 24, 32)        0         \n",
      "_________________________________________________________________\n",
      "batch_normalization_2 (Batch (None, 24, 24, 32)        128       \n",
      "_________________________________________________________________\n",
      "flatten (Flatten)            (None, 18432)             0         \n",
      "_________________________________________________________________\n",
      "dense (Dense)                (None, 2)                 36866     \n",
      "_________________________________________________________________\n",
      "dense_1 (Dense)              (None, 2)                 6         \n",
      "=================================================================\n",
      "Total params: 75,144\n",
      "Trainable params: 74,952\n",
      "Non-trainable params: 192\n",
      "_________________________________________________________________\n"
     ]
    }
   ],
   "source": [
    "\n",
    "def create_model():\n",
    "    \n",
    "    def add_conv_block(model, num_filters):\n",
    "        \n",
    "        model.add(Conv2D(num_filters, 3, activation='relu', padding='same', kernel_regularizer=regularizers.l2(l = 0.01), kernel_initializer = 'he_normal' ))\n",
    "        model.add(MaxPooling2D(pool_size=2))\n",
    "        model.add(Conv2D(num_filters, 3, activation='relu', padding='valid', kernel_regularizer=regularizers.l2(l = 0.01), kernel_initializer = 'he_normal'))\n",
    "        model.add(MaxPooling2D(pool_size=2))\n",
    "        model.add(Conv2D(num_filters, 3, activation='relu', padding='valid', kernel_regularizer=regularizers.l2(l = 0.01), kernel_initializer = 'he_normal'))\n",
    "        model.add(BatchNormalization())\n",
    "        model.add(Conv2D(num_filters, 3, activation='relu', padding='valid', kernel_regularizer=regularizers.l2(l = 0.01), kernel_initializer = 'he_normal'))\n",
    "        model.add(BatchNormalization())\n",
    "        model.add(Conv2D(num_filters, 3, activation='relu', padding='valid', kernel_regularizer=regularizers.l2(l = 0.01), kernel_initializer = 'he_normal'))\n",
    "        model.add(MaxPooling2D(pool_size=2))\n",
    "        model.add(BatchNormalization())\n",
    "\n",
    "        return model\n",
    "    \n",
    "    model = tf.keras.models.Sequential()\n",
    "    model.add(Input(shape=(224, 224, 3)))\n",
    "    \n",
    "    model = add_conv_block(model, 32)\n",
    "    model.add(Flatten())\n",
    "    model.add(Dense(2))\n",
    "    model.add(Dense(2, activation='softmax'))\n",
    "\n",
    "    model.compile(loss='categorical_crossentropy', optimizer='adam', metrics=['accuracy'])\n",
    "    return model\n",
    "\n",
    "model = create_model()\n",
    "model.summary()"
   ]
  },
  {
   "cell_type": "code",
   "execution_count": 7,
   "metadata": {
    "id": "06LNRUQDGAB9"
   },
   "outputs": [],
   "source": [
    "batch_size = 32"
   ]
  },
  {
   "cell_type": "code",
   "execution_count": 8,
   "metadata": {
    "colab": {
     "base_uri": "https://localhost:8080/"
    },
    "id": "mv2ALabUXlIe",
    "outputId": "e314e47e-ca2c-4a40-c694-f7cf9a48520b"
   },
   "outputs": [
    {
     "data": {
      "text/plain": [
       "(224, 224)"
      ]
     },
     "execution_count": 8,
     "metadata": {},
     "output_type": "execute_result"
    }
   ],
   "source": [
    "input_shape = model.layers[0].output_shape[1:3]\n",
    "input_shape"
   ]
  },
  {
   "cell_type": "code",
   "execution_count": 9,
   "metadata": {
    "colab": {
     "base_uri": "https://localhost:8080/"
    },
    "id": "G8KbHz6RXqWU",
    "outputId": "45b9bd1b-47f2-48b6-f698-14fdbde2e096"
   },
   "outputs": [
    {
     "name": "stdout",
     "output_type": "stream",
     "text": [
      "Found 45646 images belonging to 2 classes.\n"
     ]
    }
   ],
   "source": [
    "generator_train = datagen_train.flow_from_directory(directory=train_dir,\n",
    "                                                    target_size=input_shape,\n",
    "                                                    batch_size=batch_size,\n",
    "                                                    shuffle=True)"
   ]
  },
  {
   "cell_type": "code",
   "execution_count": 10,
   "metadata": {
    "id": "afYJiQe-XsUz"
   },
   "outputs": [],
   "source": [
    "datagen_test = ImageDataGenerator(rescale=1./255)"
   ]
  },
  {
   "cell_type": "code",
   "execution_count": 11,
   "metadata": {
    "colab": {
     "base_uri": "https://localhost:8080/"
    },
    "id": "FCQdtMczXuDM",
    "outputId": "10b0bf3b-e21c-4581-b16f-c5f7bf382b2c"
   },
   "outputs": [
    {
     "name": "stdout",
     "output_type": "stream",
     "text": [
      "Found 1194 images belonging to 2 classes.\n"
     ]
    }
   ],
   "source": [
    "generator_test = datagen_test.flow_from_directory(directory=test_dir,\n",
    "                                                  target_size=input_shape,\n",
    "                                                  batch_size=batch_size,\n",
    "                                                  shuffle=False)"
   ]
  },
  {
   "cell_type": "code",
   "execution_count": 12,
   "metadata": {
    "colab": {
     "base_uri": "https://localhost:8080/"
    },
    "id": "4T4w-uROXwFk",
    "outputId": "7c96e376-989f-4fe6-f5b1-63eec75a46f0"
   },
   "outputs": [
    {
     "name": "stdout",
     "output_type": "stream",
     "text": [
      "Epoch 1/50\n",
      "1427/1427 [==============================] - 1100s 771ms/step - loss: 1.6884 - accuracy: 0.5135 - val_loss: 0.8025 - val_accuracy: 0.5025\n",
      "Epoch 2/50\n",
      "1427/1427 [==============================] - 1085s 761ms/step - loss: 0.7214 - accuracy: 0.5148 - val_loss: 0.6959 - val_accuracy: 0.5000\n",
      "Epoch 3/50\n",
      "1427/1427 [==============================] - 1082s 758ms/step - loss: 0.6937 - accuracy: 0.4997 - val_loss: 0.6932 - val_accuracy: 0.5000\n",
      "Epoch 4/50\n",
      "1427/1427 [==============================] - 1075s 753ms/step - loss: 0.6932 - accuracy: 0.4950 - val_loss: 0.6931 - val_accuracy: 0.5000\n",
      "Epoch 5/50\n",
      "1427/1427 [==============================] - 1073s 752ms/step - loss: 0.6932 - accuracy: 0.4968 - val_loss: 0.6932 - val_accuracy: 0.5000\n",
      "Epoch 6/50\n",
      "1427/1427 [==============================] - 1072s 751ms/step - loss: 0.6932 - accuracy: 0.4985 - val_loss: 0.6932 - val_accuracy: 0.5000\n",
      "Epoch 7/50\n",
      "1427/1427 [==============================] - 1077s 755ms/step - loss: 0.6932 - accuracy: 0.4989 - val_loss: 0.6931 - val_accuracy: 0.5000\n",
      "Epoch 8/50\n",
      "1427/1427 [==============================] - 1076s 754ms/step - loss: 0.6932 - accuracy: 0.5002 - val_loss: 0.6932 - val_accuracy: 0.5000\n",
      "Epoch 9/50\n",
      "1427/1427 [==============================] - 1071s 750ms/step - loss: 0.6932 - accuracy: 0.5008 - val_loss: 0.6932 - val_accuracy: 0.5000\n",
      "Epoch 10/50\n",
      "1427/1427 [==============================] - 1074s 753ms/step - loss: 0.6932 - accuracy: 0.4947 - val_loss: 0.6932 - val_accuracy: 0.5000\n",
      "Epoch 11/50\n",
      "1427/1427 [==============================] - 1074s 752ms/step - loss: 0.6932 - accuracy: 0.4978 - val_loss: 0.6932 - val_accuracy: 0.5000\n",
      "Epoch 12/50\n",
      "1427/1427 [==============================] - 1078s 756ms/step - loss: 0.6932 - accuracy: 0.5000 - val_loss: 0.6932 - val_accuracy: 0.5000\n",
      "Epoch 13/50\n",
      "1427/1427 [==============================] - 1078s 756ms/step - loss: 0.6932 - accuracy: 0.4974 - val_loss: 0.6932 - val_accuracy: 0.5000\n",
      "Epoch 14/50\n",
      "1427/1427 [==============================] - 1079s 756ms/step - loss: 0.6932 - accuracy: 0.4992 - val_loss: 0.6932 - val_accuracy: 0.5000\n",
      "Epoch 15/50\n",
      "1427/1427 [==============================] - 1080s 757ms/step - loss: 0.6932 - accuracy: 0.5021 - val_loss: 0.6932 - val_accuracy: 0.5000\n",
      "Epoch 16/50\n",
      "1427/1427 [==============================] - 1084s 759ms/step - loss: 0.6933 - accuracy: 0.5000 - val_loss: 0.6932 - val_accuracy: 0.5000\n"
     ]
    }
   ],
   "source": [
    "h = model.fit(\n",
    "    generator_train,\n",
    "    validation_data=generator_test,\n",
    "    epochs=50, \n",
    "    callbacks=[\n",
    "        tf.keras.callbacks.EarlyStopping(monitor='val_accuracy', patience=15),\n",
    "        tf.keras.callbacks.ModelCheckpoint('models/model_{val_accuracy:.3f}.h5', save_best_only=True,\n",
    "                                          save_weights_only=False, monitor='val_accuracy')\n",
    "    ]\n",
    ")"
   ]
  },
  {
   "cell_type": "code",
   "execution_count": 14,
   "metadata": {
    "id": "CyH7rLfcZz0P"
   },
   "outputs": [
    {
     "data": {
      "image/png": "[encoded data removed]",
      "text/plain": [
       "<Figure size 432x288 with 1 Axes>"
      ]
     },
     "metadata": {
      "needs_background": "light"
     },
     "output_type": "display_data"
    }
   ],
   "source": [
    "plt.plot(h.history['accuracy'])\n",
    "plt.plot(h.history['val_accuracy'])\n",
    "plt.title('model accuracy')\n",
    "plt.ylabel('accuracy')\n",
    "plt.xlabel('epoch')\n",
    "plt.legend(['train', 'val'], loc='upper left')\n",
    "plt.show()"
   ]
  },
  {
   "cell_type": "code",
   "execution_count": null,
   "metadata": {},
   "outputs": [],
   "source": []
  }
 ],
 "metadata": {
  "accelerator": "GPU",
  "colab": {
   "machine_shape": "hm",
   "name": "Untitled1.ipynb",
   "provenance": []
  },
  "kernelspec": {
   "display_name": "Python 3",
   "language": "python",
   "name": "python3"
  },
  "language_info": {
   "codemirror_mode": {
    "name": "ipython",
    "version": 3
   },
   "file_extension": ".py",
   "mimetype": "text/x-python",
   "name": "python",
   "nbconvert_exporter": "python",
   "pygments_lexer": "ipython3",
   "version": "3.8.3"
  }
 },
 "nbformat": 4,
 "nbformat_minor": 1
}
