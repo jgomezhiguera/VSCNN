{
  "nbformat": 4,
  "nbformat_minor": 0,
  "metadata": {
    "colab": {
      "name": "TFM2.ipynb",
      "provenance": [],
      "collapsed_sections": []
    },
    "kernelspec": {
      "name": "python3",
      "display_name": "Python 3"
    },
    "accelerator": "GPU"
  },
  "cells": [
    {
      "cell_type": "code",
      "metadata": {
        "id": "9XRttPrmz3CT"
      },
      "source": [
        "from google.colab import drive\n",
        "from tensorflow.keras.models import Model, Sequential\n",
        "from tensorflow.keras.layers import Dense, Flatten, Dropout\n",
        "from tensorflow.keras.applications import VGG16\n",
        "from tensorflow.keras.applications.vgg16 import preprocess_input, decode_predictions\n",
        "from tensorflow.keras.preprocessing.image import ImageDataGenerator\n",
        "from tensorflow.keras.optimizers import Adam, RMSprop"
      ],
      "execution_count": null,
      "outputs": []
    },
    {
      "cell_type": "code",
      "metadata": {
        "id": "ZkcGLpqGCw-d"
      },
      "source": [
        "%matplotlib inline\n",
        "import matplotlib.pyplot as plt\n",
        "import PIL\n",
        "import tensorflow as tf\n",
        "import numpy as np\n",
        "import os"
      ],
      "execution_count": null,
      "outputs": []
    },
    {
      "cell_type": "code",
      "metadata": {
        "colab": {
          "base_uri": "https://localhost:8080/"
        },
        "id": "s2K8hc6Sj6IZ",
        "outputId": "947137de-8cc6-4fb1-9bbb-c685aec9195d"
      },
      "source": [
        "drive.mount(\"/content/drive\", force_remount=True)"
      ],
      "execution_count": null,
      "outputs": [
        {
          "output_type": "stream",
          "text": [
            "Mounted at /content/drive\n"
          ],
          "name": "stdout"
        }
      ]
    },
    {
      "cell_type": "code",
      "metadata": {
        "id": "nam2acBPkNeS"
      },
      "source": [
        "train_dir = \"/content/drive/MyDrive/Us/train\"\n",
        "test_dir = \"/content/drive/MyDrive/Us/val\""
      ],
      "execution_count": null,
      "outputs": []
    },
    {
      "cell_type": "code",
      "metadata": {
        "id": "1soD2Q-KDaa_"
      },
      "source": [
        "model = VGG16(include_top=True, weights='imagenet')"
      ],
      "execution_count": null,
      "outputs": []
    },
    {
      "cell_type": "code",
      "metadata": {
        "colab": {
          "base_uri": "https://localhost:8080/"
        },
        "id": "15CVDdW3sIBC",
        "outputId": "0d466920-ed6f-4fbe-96b4-dd672cb99177"
      },
      "source": [
        "input_shape = model.layers[0].output_shape[0][1:3]\n",
        "input_shape"
      ],
      "execution_count": null,
      "outputs": [
        {
          "output_type": "execute_result",
          "data": {
            "text/plain": [
              "(224, 224)"
            ]
          },
          "metadata": {
            "tags": []
          },
          "execution_count": 42
        }
      ]
    },
    {
      "cell_type": "code",
      "metadata": {
        "id": "M2W5T55JjSHg"
      },
      "source": [
        "datagen_train = ImageDataGenerator(\n",
        "      rescale=1./255,\n",
        "      rotation_range=180,\n",
        "      width_shift_range=0.1,\n",
        "      height_shift_range=0.1,\n",
        "      shear_range=0.1,\n",
        "      zoom_range=[0.9, 1.5],\n",
        "      horizontal_flip=True,\n",
        "      vertical_flip=True,\n",
        "      fill_mode='nearest')"
      ],
      "execution_count": null,
      "outputs": []
    },
    {
      "cell_type": "code",
      "metadata": {
        "id": "wpjIn0oijTR6"
      },
      "source": [
        "datagen_test = ImageDataGenerator(rescale=1./255)"
      ],
      "execution_count": null,
      "outputs": []
    },
    {
      "cell_type": "code",
      "metadata": {
        "id": "A_s3NlwfjXkz"
      },
      "source": [
        "batch_size = 20"
      ],
      "execution_count": null,
      "outputs": []
    },
    {
      "cell_type": "code",
      "metadata": {
        "colab": {
          "base_uri": "https://localhost:8080/"
        },
        "id": "acV0oeCljZ4C",
        "outputId": "87183090-6c3e-4d45-e0b2-b54b05612f36"
      },
      "source": [
        "generator_train = datagen_train.flow_from_directory(directory=train_dir,\n",
        "                                                    target_size=input_shape,\n",
        "                                                    batch_size=batch_size,\n",
        "                                                    shuffle=True)"
      ],
      "execution_count": null,
      "outputs": [
        {
          "output_type": "stream",
          "text": [
            "Found 45646 images belonging to 2 classes.\n"
          ],
          "name": "stdout"
        }
      ]
    },
    {
      "cell_type": "code",
      "metadata": {
        "colab": {
          "base_uri": "https://localhost:8080/"
        },
        "id": "e0jLYjslsa6m",
        "outputId": "4656ea12-1300-4886-cb16-68d7b886a823"
      },
      "source": [
        "generator_test = datagen_test.flow_from_directory(directory=test_dir,\n",
        "                                                  target_size=input_shape,\n",
        "                                                  batch_size=batch_size,\n",
        "                                                  shuffle=False)"
      ],
      "execution_count": null,
      "outputs": [
        {
          "output_type": "stream",
          "text": [
            "Found 1194 images belonging to 2 classes.\n"
          ],
          "name": "stdout"
        }
      ]
    },
    {
      "cell_type": "code",
      "metadata": {
        "colab": {
          "base_uri": "https://localhost:8080/"
        },
        "id": "hpprno5tuG6G",
        "outputId": "02ede26c-8720-483b-f382-a7ead0a15770"
      },
      "source": [
        "steps_test = generator_test.n / batch_size\n",
        "steps_test"
      ],
      "execution_count": null,
      "outputs": [
        {
          "output_type": "execute_result",
          "data": {
            "text/plain": [
              "59.7"
            ]
          },
          "metadata": {
            "tags": []
          },
          "execution_count": 48
        }
      ]
    },
    {
      "cell_type": "code",
      "metadata": {
        "id": "LSbQDGpzTXx4"
      },
      "source": [
        "def path_join(dirname, filenames):\n",
        "    return [os.path.join(dirname, filename) for filename in filenames]"
      ],
      "execution_count": null,
      "outputs": []
    },
    {
      "cell_type": "code",
      "metadata": {
        "id": "cRajm_-0uOyY"
      },
      "source": [
        "image_paths_train = path_join(train_dir, generator_train.filenames)\n",
        "image_paths_test = path_join(test_dir, generator_test.filenames)"
      ],
      "execution_count": null,
      "outputs": []
    },
    {
      "cell_type": "code",
      "metadata": {
        "id": "IN8CpojDBD2x"
      },
      "source": [
        "cls_train = generator_train.classes\n",
        "cls_test = generator_test.classes"
      ],
      "execution_count": null,
      "outputs": []
    },
    {
      "cell_type": "code",
      "metadata": {
        "colab": {
          "base_uri": "https://localhost:8080/"
        },
        "id": "hYZjkCAyVEJx",
        "outputId": "0e95d9ee-4944-4d3a-d2b0-7a29a55c6a80"
      },
      "source": [
        "class_names = list(generator_train.class_indices.keys())\n",
        "class_names"
      ],
      "execution_count": null,
      "outputs": [
        {
          "output_type": "execute_result",
          "data": {
            "text/plain": [
              "['0', '1']"
            ]
          },
          "metadata": {
            "tags": []
          },
          "execution_count": 52
        }
      ]
    },
    {
      "cell_type": "code",
      "metadata": {
        "colab": {
          "base_uri": "https://localhost:8080/"
        },
        "id": "LsVdTkC_VGUB",
        "outputId": "a744ccee-3001-4e44-e843-14559a8a26de"
      },
      "source": [
        "num_classes = generator_train.num_classes\n",
        "num_classes"
      ],
      "execution_count": null,
      "outputs": [
        {
          "output_type": "execute_result",
          "data": {
            "text/plain": [
              "2"
            ]
          },
          "metadata": {
            "tags": []
          },
          "execution_count": 53
        }
      ]
    },
    {
      "cell_type": "code",
      "metadata": {
        "colab": {
          "base_uri": "https://localhost:8080/"
        },
        "id": "d_Y9Cs0EVIVC",
        "outputId": "91660773-f40f-4cd8-8897-5009cba23ab5"
      },
      "source": [
        "model.summary()"
      ],
      "execution_count": null,
      "outputs": [
        {
          "output_type": "stream",
          "text": [
            "Model: \"vgg16\"\n",
            "_________________________________________________________________\n",
            "Layer (type)                 Output Shape              Param #   \n",
            "=================================================================\n",
            "input_2 (InputLayer)         [(None, 224, 224, 3)]     0         \n",
            "_________________________________________________________________\n",
            "block1_conv1 (Conv2D)        (None, 224, 224, 64)      1792      \n",
            "_________________________________________________________________\n",
            "block1_conv2 (Conv2D)        (None, 224, 224, 64)      36928     \n",
            "_________________________________________________________________\n",
            "block1_pool (MaxPooling2D)   (None, 112, 112, 64)      0         \n",
            "_________________________________________________________________\n",
            "block2_conv1 (Conv2D)        (None, 112, 112, 128)     73856     \n",
            "_________________________________________________________________\n",
            "block2_conv2 (Conv2D)        (None, 112, 112, 128)     147584    \n",
            "_________________________________________________________________\n",
            "block2_pool (MaxPooling2D)   (None, 56, 56, 128)       0         \n",
            "_________________________________________________________________\n",
            "block3_conv1 (Conv2D)        (None, 56, 56, 256)       295168    \n",
            "_________________________________________________________________\n",
            "block3_conv2 (Conv2D)        (None, 56, 56, 256)       590080    \n",
            "_________________________________________________________________\n",
            "block3_conv3 (Conv2D)        (None, 56, 56, 256)       590080    \n",
            "_________________________________________________________________\n",
            "block3_pool (MaxPooling2D)   (None, 28, 28, 256)       0         \n",
            "_________________________________________________________________\n",
            "block4_conv1 (Conv2D)        (None, 28, 28, 512)       1180160   \n",
            "_________________________________________________________________\n",
            "block4_conv2 (Conv2D)        (None, 28, 28, 512)       2359808   \n",
            "_________________________________________________________________\n",
            "block4_conv3 (Conv2D)        (None, 28, 28, 512)       2359808   \n",
            "_________________________________________________________________\n",
            "block4_pool (MaxPooling2D)   (None, 14, 14, 512)       0         \n",
            "_________________________________________________________________\n",
            "block5_conv1 (Conv2D)        (None, 14, 14, 512)       2359808   \n",
            "_________________________________________________________________\n",
            "block5_conv2 (Conv2D)        (None, 14, 14, 512)       2359808   \n",
            "_________________________________________________________________\n",
            "block5_conv3 (Conv2D)        (None, 14, 14, 512)       2359808   \n",
            "_________________________________________________________________\n",
            "block5_pool (MaxPooling2D)   (None, 7, 7, 512)         0         \n",
            "_________________________________________________________________\n",
            "flatten (Flatten)            (None, 25088)             0         \n",
            "_________________________________________________________________\n",
            "fc1 (Dense)                  (None, 4096)              102764544 \n",
            "_________________________________________________________________\n",
            "fc2 (Dense)                  (None, 4096)              16781312  \n",
            "_________________________________________________________________\n",
            "predictions (Dense)          (None, 1000)              4097000   \n",
            "=================================================================\n",
            "Total params: 138,357,544\n",
            "Trainable params: 138,357,544\n",
            "Non-trainable params: 0\n",
            "_________________________________________________________________\n"
          ],
          "name": "stdout"
        }
      ]
    },
    {
      "cell_type": "code",
      "metadata": {
        "id": "CU7NNWa5VU4o"
      },
      "source": [
        "transfer_layer = model.get_layer('block5_pool')"
      ],
      "execution_count": null,
      "outputs": []
    },
    {
      "cell_type": "code",
      "metadata": {
        "id": "wf8-C1A9Vjvf"
      },
      "source": [
        "conv_model = Model(inputs=model.input,\n",
        "                   outputs=transfer_layer.output)"
      ],
      "execution_count": null,
      "outputs": []
    },
    {
      "cell_type": "code",
      "metadata": {
        "id": "GPydmVNMVmMA"
      },
      "source": [
        "# Start a new Keras Sequential model.\n",
        "new_model = Sequential()\n",
        "\n",
        "# Add the convolutional part of the VGG16 model from above.\n",
        "new_model.add(conv_model)\n",
        "\n",
        "# Flatten the output of the VGG16 model because it is from a\n",
        "# convolutional layer.\n",
        "new_model.add(Flatten())\n",
        "\n",
        "# Add a dense (aka. fully-connected) layer.\n",
        "# This is for combining features that the VGG16 model has\n",
        "# recognized in the image.\n",
        "new_model.add(Dense(1024, activation='sigmoid'))\n",
        "\n",
        "# Add a dropout-layer which may prevent overfitting and\n",
        "# improve generalization ability to unseen data e.g. the test-set.\n",
        "new_model.add(Dropout(0.5))\n",
        "\n",
        "# Add the final layer for the actual classification.\n",
        "new_model.add(Dense(num_classes, activation='sigmoid'))"
      ],
      "execution_count": null,
      "outputs": []
    },
    {
      "cell_type": "code",
      "metadata": {
        "id": "Quktz4fLV28p"
      },
      "source": [
        "optimizer = Adam(lr=1e-5)\n",
        "metrics = ['binary_accuracy']\n",
        "loss = 'binary_crossentropy'\n"
      ],
      "execution_count": null,
      "outputs": []
    },
    {
      "cell_type": "code",
      "metadata": {
        "id": "sr7-VdlQWfPY"
      },
      "source": [
        "def print_layer_trainable():\n",
        "    for layer in conv_model.layers:\n",
        "        print(\"{0}:\\t{1}\".format(layer.trainable, layer.name))"
      ],
      "execution_count": null,
      "outputs": []
    },
    {
      "cell_type": "code",
      "metadata": {
        "colab": {
          "base_uri": "https://localhost:8080/"
        },
        "id": "FN9RVq9rWfuH",
        "outputId": "27a555a4-0759-40b7-a4c9-fbe94a2fe740"
      },
      "source": [
        "print_layer_trainable()"
      ],
      "execution_count": null,
      "outputs": [
        {
          "output_type": "stream",
          "text": [
            "True:\tinput_2\n",
            "True:\tblock1_conv1\n",
            "True:\tblock1_conv2\n",
            "True:\tblock1_pool\n",
            "True:\tblock2_conv1\n",
            "True:\tblock2_conv2\n",
            "True:\tblock2_pool\n",
            "True:\tblock3_conv1\n",
            "True:\tblock3_conv2\n",
            "True:\tblock3_conv3\n",
            "True:\tblock3_pool\n",
            "True:\tblock4_conv1\n",
            "True:\tblock4_conv2\n",
            "True:\tblock4_conv3\n",
            "True:\tblock4_pool\n",
            "True:\tblock5_conv1\n",
            "True:\tblock5_conv2\n",
            "True:\tblock5_conv3\n",
            "True:\tblock5_pool\n"
          ],
          "name": "stdout"
        }
      ]
    },
    {
      "cell_type": "code",
      "metadata": {
        "id": "4zEGyYtuWhOG"
      },
      "source": [
        "conv_model.trainable = False"
      ],
      "execution_count": null,
      "outputs": []
    },
    {
      "cell_type": "code",
      "metadata": {
        "id": "n4TNPylAWkwP"
      },
      "source": [
        "for layer in conv_model.layers:\n",
        "    layer.trainable = False"
      ],
      "execution_count": null,
      "outputs": []
    },
    {
      "cell_type": "code",
      "metadata": {
        "colab": {
          "base_uri": "https://localhost:8080/"
        },
        "id": "Qu9gdw64WnAQ",
        "outputId": "f3cf3365-8be8-4815-d2cd-9ea13d50fdec"
      },
      "source": [
        "print_layer_trainable()"
      ],
      "execution_count": null,
      "outputs": [
        {
          "output_type": "stream",
          "text": [
            "False:\tinput_2\n",
            "False:\tblock1_conv1\n",
            "False:\tblock1_conv2\n",
            "False:\tblock1_pool\n",
            "False:\tblock2_conv1\n",
            "False:\tblock2_conv2\n",
            "False:\tblock2_pool\n",
            "False:\tblock3_conv1\n",
            "False:\tblock3_conv2\n",
            "False:\tblock3_conv3\n",
            "False:\tblock3_pool\n",
            "False:\tblock4_conv1\n",
            "False:\tblock4_conv2\n",
            "False:\tblock4_conv3\n",
            "False:\tblock4_pool\n",
            "False:\tblock5_conv1\n",
            "False:\tblock5_conv2\n",
            "False:\tblock5_conv3\n",
            "False:\tblock5_pool\n"
          ],
          "name": "stdout"
        }
      ]
    },
    {
      "cell_type": "code",
      "metadata": {
        "id": "jABdKip_WorJ"
      },
      "source": [
        "new_model.compile(optimizer=optimizer, loss=loss, metrics=metrics)"
      ],
      "execution_count": null,
      "outputs": []
    },
    {
      "cell_type": "code",
      "metadata": {
        "id": "CdEM9Z_wWrRR"
      },
      "source": [
        "epochs = 25\n",
        "steps_per_epoch = 100"
      ],
      "execution_count": null,
      "outputs": []
    },
    {
      "cell_type": "code",
      "metadata": {
        "colab": {
          "base_uri": "https://localhost:8080/"
        },
        "id": "awdE3cNqXF7Z",
        "outputId": "65d0df77-b18f-4364-8990-7f605cd61d5c"
      },
      "source": [
        "history = new_model.fit(x=generator_train,\n",
        "                        epochs=epochs,\n",
        "                        steps_per_epoch=steps_per_epoch,\n",
        "                        validation_data=generator_test,\n",
        "                        validation_steps=steps_test)"
      ],
      "execution_count": null,
      "outputs": [
        {
          "output_type": "stream",
          "text": [
            "Epoch 1/25\n",
            "100/100 [==============================] - 681s 7s/step - loss: 0.7306 - binary_accuracy: 0.5085 - val_loss: 0.6922 - val_binary_accuracy: 0.5318\n",
            "Epoch 2/25\n",
            "100/100 [==============================] - 651s 7s/step - loss: 0.7210 - binary_accuracy: 0.5130 - val_loss: 0.6951 - val_binary_accuracy: 0.5243\n",
            "Epoch 3/25\n",
            "100/100 [==============================] - 618s 6s/step - loss: 0.7192 - binary_accuracy: 0.5088 - val_loss: 0.6910 - val_binary_accuracy: 0.5431\n",
            "Epoch 4/25\n",
            "100/100 [==============================] - 598s 6s/step - loss: 0.7148 - binary_accuracy: 0.5263 - val_loss: 0.6906 - val_binary_accuracy: 0.5427\n",
            "Epoch 5/25\n",
            "100/100 [==============================] - 564s 6s/step - loss: 0.7161 - binary_accuracy: 0.5170 - val_loss: 0.6930 - val_binary_accuracy: 0.5218\n",
            "Epoch 6/25\n",
            "100/100 [==============================] - 548s 5s/step - loss: 0.7175 - binary_accuracy: 0.4955 - val_loss: 0.6997 - val_binary_accuracy: 0.5029\n",
            "Epoch 7/25\n",
            "100/100 [==============================] - 514s 5s/step - loss: 0.7171 - binary_accuracy: 0.4995 - val_loss: 0.6974 - val_binary_accuracy: 0.5205\n",
            "Epoch 8/25\n",
            "100/100 [==============================] - 501s 5s/step - loss: 0.7079 - binary_accuracy: 0.5207 - val_loss: 0.6918 - val_binary_accuracy: 0.5218\n",
            "Epoch 9/25\n",
            "100/100 [==============================] - 514s 5s/step - loss: 0.7062 - binary_accuracy: 0.5153 - val_loss: 0.6909 - val_binary_accuracy: 0.5335\n",
            "Epoch 10/25\n",
            "100/100 [==============================] - 470s 5s/step - loss: 0.6940 - binary_accuracy: 0.5383 - val_loss: 0.6996 - val_binary_accuracy: 0.5075\n",
            "Epoch 11/25\n",
            "100/100 [==============================] - 449s 4s/step - loss: 0.7065 - binary_accuracy: 0.5182 - val_loss: 0.6914 - val_binary_accuracy: 0.5314\n",
            "Epoch 12/25\n",
            "100/100 [==============================] - 443s 4s/step - loss: 0.7047 - binary_accuracy: 0.5215 - val_loss: 0.6908 - val_binary_accuracy: 0.5415\n",
            "Epoch 13/25\n",
            "100/100 [==============================] - 421s 4s/step - loss: 0.7038 - binary_accuracy: 0.5160 - val_loss: 0.6917 - val_binary_accuracy: 0.5360\n",
            "Epoch 14/25\n",
            "100/100 [==============================] - 403s 4s/step - loss: 0.6933 - binary_accuracy: 0.5322 - val_loss: 0.6927 - val_binary_accuracy: 0.5360\n",
            "Epoch 15/25\n",
            "100/100 [==============================] - 404s 4s/step - loss: 0.7015 - binary_accuracy: 0.5220 - val_loss: 0.6886 - val_binary_accuracy: 0.5431\n",
            "Epoch 16/25\n",
            "100/100 [==============================] - 387s 4s/step - loss: 0.6993 - binary_accuracy: 0.5235 - val_loss: 0.6928 - val_binary_accuracy: 0.5218\n",
            "Epoch 17/25\n",
            "100/100 [==============================] - 379s 4s/step - loss: 0.6967 - binary_accuracy: 0.5372 - val_loss: 0.6926 - val_binary_accuracy: 0.5268\n",
            "Epoch 18/25\n",
            "100/100 [==============================] - 350s 3s/step - loss: 0.6966 - binary_accuracy: 0.5282 - val_loss: 0.6891 - val_binary_accuracy: 0.5436\n",
            "Epoch 19/25\n",
            "100/100 [==============================] - 360s 4s/step - loss: 0.6989 - binary_accuracy: 0.5282 - val_loss: 0.6961 - val_binary_accuracy: 0.5235\n",
            "Epoch 20/25\n",
            "100/100 [==============================] - 339s 3s/step - loss: 0.6941 - binary_accuracy: 0.5253 - val_loss: 0.6913 - val_binary_accuracy: 0.5373\n",
            "Epoch 21/25\n",
            "100/100 [==============================] - 325s 3s/step - loss: 0.6955 - binary_accuracy: 0.5312 - val_loss: 0.6941 - val_binary_accuracy: 0.5151\n",
            "Epoch 22/25\n",
            "100/100 [==============================] - 303s 3s/step - loss: 0.6942 - binary_accuracy: 0.5282 - val_loss: 0.6943 - val_binary_accuracy: 0.5226\n",
            "Epoch 23/25\n",
            "100/100 [==============================] - 311s 3s/step - loss: 0.6941 - binary_accuracy: 0.5340 - val_loss: 0.6922 - val_binary_accuracy: 0.5276\n",
            "Epoch 24/25\n",
            "100/100 [==============================] - 279s 3s/step - loss: 0.6945 - binary_accuracy: 0.5222 - val_loss: 0.6914 - val_binary_accuracy: 0.5255\n",
            "Epoch 25/25\n",
            "100/100 [==============================] - 271s 3s/step - loss: 0.7000 - binary_accuracy: 0.5180 - val_loss: 0.6919 - val_binary_accuracy: 0.5297\n"
          ],
          "name": "stdout"
        }
      ]
    },
    {
      "cell_type": "code",
      "metadata": {
        "id": "PRHhd9stXH9R"
      },
      "source": [
        "def plot_training_history(history):\n",
        "    # Get the classification accuracy and loss-value\n",
        "    # for the training-set.\n",
        "    acc = history.history['binary_accuracy']\n",
        "    loss = history.history['loss']\n",
        "\n",
        "    # Get it for the validation-set (we only use the test-set).\n",
        "    val_acc = history.history['val_binary_accuracy']\n",
        "    val_loss = history.history['val_loss']\n",
        "\n",
        "    # Plot the accuracy and loss-values for the training-set.\n",
        "    plt.plot(acc, linestyle='-', color='b', label='Training Acc.')\n",
        "    plt.plot(loss, 'o', color='b', label='Training Loss')\n",
        "    \n",
        "    # Plot it for the test-set.\n",
        "    plt.plot(val_acc, linestyle='--', color='r', label='Test Acc.')\n",
        "    plt.plot(val_loss, 'o', color='r', label='Test Loss')\n",
        "\n",
        "    # Plot title and legend.\n",
        "    plt.title('Training and Test Accuracy')\n",
        "    plt.legend()\n",
        "\n",
        "    # Ensure the plot shows correctly.\n",
        "    plt.show()"
      ],
      "execution_count": null,
      "outputs": []
    },
    {
      "cell_type": "code",
      "metadata": {
        "colab": {
          "base_uri": "https://localhost:8080/",
          "height": 281
        },
        "id": "g8CWrm8tT2_R",
        "outputId": "9391f7a0-05e0-4ead-8133-94b72f1e2185"
      },
      "source": [
        "plot_training_history(history)"
      ],
      "execution_count": null,
      "outputs": [
        {
          "output_type": "display_data",
          "data": {
            "image/png": "[encoded data removed]",
            "text/plain": [
              "<Figure size 432x288 with 1 Axes>"
            ]
          },
          "metadata": {
            "tags": [],
            "needs_background": "light"
          }
        }
      ]
    },
    {
      "cell_type": "code",
      "metadata": {
        "id": "DPY1u8MYT4m2"
      },
      "source": [
        "#Fine tunning\n",
        "conv_model.trainable = True"
      ],
      "execution_count": null,
      "outputs": []
    },
    {
      "cell_type": "code",
      "metadata": {
        "id": "WcZBn7X5WYdW"
      },
      "source": [
        "for layer in conv_model.layers:\n",
        "    # Boolean whether this layer is trainable.\n",
        "    trainable = ('block5' in layer.name or 'block4' in layer.name)\n",
        "    \n",
        "    # Set the layer's bool.\n",
        "    layer.trainable = trainable"
      ],
      "execution_count": null,
      "outputs": []
    },
    {
      "cell_type": "code",
      "metadata": {
        "id": "jdNKpA4IWeCm"
      },
      "source": [
        "optimizer_fine = Adam(lr=1e-7)"
      ],
      "execution_count": null,
      "outputs": []
    },
    {
      "cell_type": "code",
      "metadata": {
        "id": "IUA35kMNWg7N"
      },
      "source": [
        "new_model.compile(optimizer=optimizer_fine, loss=loss, metrics=metrics)"
      ],
      "execution_count": null,
      "outputs": []
    },
    {
      "cell_type": "code",
      "metadata": {
        "colab": {
          "base_uri": "https://localhost:8080/"
        },
        "id": "Q1nO1GOAWjBO",
        "outputId": "a417c003-3f56-4cab-cd62-30476b00549d"
      },
      "source": [
        "history = new_model.fit(x=generator_train,\n",
        "                        epochs=epochs,\n",
        "                        steps_per_epoch=steps_per_epoch,\n",
        "                        validation_data=generator_test,\n",
        "                        validation_steps=steps_test)"
      ],
      "execution_count": null,
      "outputs": [
        {
          "output_type": "stream",
          "text": [
            "Epoch 1/25\n",
            "100/100 [==============================] - 267s 3s/step - loss: 0.6930 - binary_accuracy: 0.5300 - val_loss: 0.6914 - val_binary_accuracy: 0.5302\n",
            "Epoch 2/25\n",
            "100/100 [==============================] - 256s 3s/step - loss: 0.6910 - binary_accuracy: 0.5325 - val_loss: 0.6911 - val_binary_accuracy: 0.5369\n",
            "Epoch 3/25\n",
            "100/100 [==============================] - 244s 2s/step - loss: 0.6864 - binary_accuracy: 0.5430 - val_loss: 0.6911 - val_binary_accuracy: 0.5343\n",
            "Epoch 4/25\n",
            "100/100 [==============================] - 228s 2s/step - loss: 0.6922 - binary_accuracy: 0.5180 - val_loss: 0.6910 - val_binary_accuracy: 0.5373\n",
            "Epoch 5/25\n",
            "100/100 [==============================] - 247s 2s/step - loss: 0.6905 - binary_accuracy: 0.5305 - val_loss: 0.6910 - val_binary_accuracy: 0.5360\n",
            "Epoch 6/25\n",
            "100/100 [==============================] - 229s 2s/step - loss: 0.6936 - binary_accuracy: 0.5222 - val_loss: 0.6909 - val_binary_accuracy: 0.5381\n",
            "Epoch 7/25\n",
            "100/100 [==============================] - 215s 2s/step - loss: 0.6919 - binary_accuracy: 0.5288 - val_loss: 0.6910 - val_binary_accuracy: 0.5348\n",
            "Epoch 8/25\n",
            "100/100 [==============================] - 222s 2s/step - loss: 0.6943 - binary_accuracy: 0.5293 - val_loss: 0.6910 - val_binary_accuracy: 0.5343\n",
            "Epoch 9/25\n",
            "100/100 [==============================] - 194s 2s/step - loss: 0.6889 - binary_accuracy: 0.5290 - val_loss: 0.6910 - val_binary_accuracy: 0.5339\n",
            "Epoch 10/25\n",
            "100/100 [==============================] - 258s 3s/step - loss: 0.6928 - binary_accuracy: 0.5245 - val_loss: 0.6906 - val_binary_accuracy: 0.5456\n",
            "Epoch 11/25\n",
            "100/100 [==============================] - 186s 2s/step - loss: 0.6845 - binary_accuracy: 0.5487 - val_loss: 0.6907 - val_binary_accuracy: 0.5427\n",
            "Epoch 12/25\n",
            "100/100 [==============================] - 189s 2s/step - loss: 0.6915 - binary_accuracy: 0.5325 - val_loss: 0.6909 - val_binary_accuracy: 0.5402\n",
            "Epoch 13/25\n",
            "100/100 [==============================] - 182s 2s/step - loss: 0.6920 - binary_accuracy: 0.5272 - val_loss: 0.6910 - val_binary_accuracy: 0.5343\n",
            "Epoch 14/25\n",
            "100/100 [==============================] - 180s 2s/step - loss: 0.6907 - binary_accuracy: 0.5468 - val_loss: 0.6910 - val_binary_accuracy: 0.5369\n",
            "Epoch 15/25\n",
            "100/100 [==============================] - 168s 2s/step - loss: 0.6929 - binary_accuracy: 0.5278 - val_loss: 0.6908 - val_binary_accuracy: 0.5389\n",
            "Epoch 16/25\n",
            "100/100 [==============================] - 162s 2s/step - loss: 0.6906 - binary_accuracy: 0.5318 - val_loss: 0.6906 - val_binary_accuracy: 0.5419\n",
            "Epoch 17/25\n",
            "100/100 [==============================] - 159s 2s/step - loss: 0.6893 - binary_accuracy: 0.5400 - val_loss: 0.6906 - val_binary_accuracy: 0.5423\n",
            "Epoch 18/25\n",
            "100/100 [==============================] - 155s 2s/step - loss: 0.6931 - binary_accuracy: 0.5320 - val_loss: 0.6907 - val_binary_accuracy: 0.5419\n",
            "Epoch 19/25\n",
            "100/100 [==============================] - 150s 1s/step - loss: 0.6933 - binary_accuracy: 0.5188 - val_loss: 0.6907 - val_binary_accuracy: 0.5394\n",
            "Epoch 20/25\n",
            "100/100 [==============================] - 147s 1s/step - loss: 0.6942 - binary_accuracy: 0.5238 - val_loss: 0.6907 - val_binary_accuracy: 0.5377\n",
            "Epoch 21/25\n",
            "100/100 [==============================] - 152s 2s/step - loss: 0.6926 - binary_accuracy: 0.5242 - val_loss: 0.6906 - val_binary_accuracy: 0.5427\n",
            "Epoch 22/25\n",
            "100/100 [==============================] - 128s 1s/step - loss: 0.6911 - binary_accuracy: 0.5378 - val_loss: 0.6904 - val_binary_accuracy: 0.5415\n",
            "Epoch 23/25\n",
            "100/100 [==============================] - 134s 1s/step - loss: 0.6958 - binary_accuracy: 0.5184 - val_loss: 0.6903 - val_binary_accuracy: 0.5423\n",
            "Epoch 24/25\n",
            "100/100 [==============================] - 130s 1s/step - loss: 0.6897 - binary_accuracy: 0.5322 - val_loss: 0.6903 - val_binary_accuracy: 0.5456\n",
            "Epoch 25/25\n",
            "100/100 [==============================] - 133s 1s/step - loss: 0.6896 - binary_accuracy: 0.5410 - val_loss: 0.6904 - val_binary_accuracy: 0.5423\n"
          ],
          "name": "stdout"
        }
      ]
    }
  ]
}