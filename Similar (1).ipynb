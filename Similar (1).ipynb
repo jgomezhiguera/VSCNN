{
  "nbformat": 4,
  "nbformat_minor": 0,
  "metadata": {
    "colab": {
      "name": "Similar.ipynb",
      "provenance": [],
      "machine_shape": "hm"
    },
    "kernelspec": {
      "name": "python3",
      "display_name": "Python 3"
    },
    "accelerator": "GPU"
  },
  "cells": [
    {
      "cell_type": "code",
      "metadata": {
        "id": "SCGVPmb9Wcui"
      },
      "source": [
        "import tensorflow as tf\r\n",
        "from tensorflow.keras.models import Model, Sequential\r\n",
        "from tensorflow.keras.preprocessing.image import ImageDataGenerator\r\n",
        "from tensorflow.keras.optimizers import Adam, RMSprop\r\n",
        "from keras import regularizers\r\n",
        "from google.colab import drive\r\n",
        "from tensorflow.keras.layers import Conv2D, MaxPooling2D, BatchNormalization, ZeroPadding2D\r\n",
        "from tensorflow.keras.layers import Dropout, Flatten, Input, Dense"
      ],
      "execution_count": null,
      "outputs": []
    },
    {
      "cell_type": "code",
      "metadata": {
        "colab": {
          "base_uri": "https://localhost:8080/"
        },
        "id": "oSr64MWRhviS",
        "outputId": "93ee4dab-39b9-4e77-d2b5-32d3e55a754e"
      },
      "source": [
        "drive.mount(\"/content/drive\", force_remount=True)"
      ],
      "execution_count": null,
      "outputs": [
        {
          "output_type": "stream",
          "text": [
            "Mounted at /content/drive\n"
          ],
          "name": "stdout"
        }
      ]
    },
    {
      "cell_type": "code",
      "metadata": {
        "id": "v6_rLEathGJT"
      },
      "source": [
        "datagen_train = ImageDataGenerator(\r\n",
        "    rescale=1./255,\r\n",
        "      rotation_range=180,\r\n",
        "      width_shift_range=0.1,\r\n",
        "      height_shift_range=0.1,\r\n",
        "      shear_range=0.1,\r\n",
        "      zoom_range=[0.9, 1.5],\r\n",
        "      horizontal_flip=True,\r\n",
        "      vertical_flip=True,\r\n",
        "      fill_mode='nearest')"
      ],
      "execution_count": null,
      "outputs": []
    },
    {
      "cell_type": "code",
      "metadata": {
        "id": "r6HFc7c-hPFo"
      },
      "source": [
        "train_dir = \"/content/drive/MyDrive/Us/train\"\r\n",
        "test_dir = \"/content/drive/MyDrive/Us/val\""
      ],
      "execution_count": null,
      "outputs": []
    },
    {
      "cell_type": "code",
      "metadata": {
        "colab": {
          "base_uri": "https://localhost:8080/"
        },
        "id": "W1-2cUg5oYCu",
        "outputId": "60251c85-c041-4352-9b50-eff5faa598fa"
      },
      "source": [
        "def create_model():\r\n",
        "    \r\n",
        "    def add_conv_block(model):\r\n",
        "        model.add(Conv2D(96, 11, activation='relu', padding='same', kernel_regularizer=regularizers.l2(0.01)))\r\n",
        "        model.add(BatchNormalization())\r\n",
        "        model.add(MaxPooling2D(pool_size=2))\r\n",
        "        model.add(Conv2D(256, 5, activation='relu', padding='same'))\r\n",
        "        model.add(BatchNormalization())\r\n",
        "        model.add(MaxPooling2D(pool_size=2))\r\n",
        "        model.add(ZeroPadding2D((1, 1)))\r\n",
        "        model.add(Conv2D(512, 3, activation='relu', padding='same'))\r\n",
        "        model.add(BatchNormalization())\r\n",
        "        model.add(MaxPooling2D(pool_size=2))\r\n",
        "        model.add(ZeroPadding2D((1, 1)))\r\n",
        "        model.add(Conv2D(1024, 3, activation='relu', padding='same'))\r\n",
        "        model.add(BatchNormalization())\r\n",
        "        model.add(ZeroPadding2D((1, 1)))\r\n",
        "        model.add(Conv2D(1024, 3, activation='relu', padding='same'))\r\n",
        "        model.add(BatchNormalization())\r\n",
        "        model.add(MaxPooling2D(pool_size=2))\r\n",
        "        model.add(Flatten())\r\n",
        "        model.add(Dense(3072, activation='relu'))\r\n",
        "        model.add(BatchNormalization())\r\n",
        "        model.add(Dropout(0.5))\r\n",
        "        model.add(Dense(4096, activation='relu'))\r\n",
        "        model.add(BatchNormalization())\r\n",
        "        model.add(Dropout(0.5))\r\n",
        "        model.add(Dense(4608, activation='relu'))\r\n",
        "        model.add(BatchNormalization())\r\n",
        "        model.add(Dropout(0.5))\r\n",
        "        model.add(Dense(2, activation='softmax'))\r\n",
        "        return model\r\n",
        "    \r\n",
        "    model = tf.keras.models.Sequential()\r\n",
        "    model.add(Input(shape=(56, 56, 3)))\r\n",
        "    model = add_conv_block(model)\r\n",
        "    \r\n",
        "\r\n",
        "    model.compile(loss='categorical_crossentropy', optimizer='adam', metrics=['accuracy'])\r\n",
        "    return model\r\n",
        "\r\n",
        "model = create_model()\r\n",
        "model.summary()"
      ],
      "execution_count": null,
      "outputs": [
        {
          "output_type": "stream",
          "text": [
            "Model: \"sequential\"\n",
            "_________________________________________________________________\n",
            "Layer (type)                 Output Shape              Param #   \n",
            "=================================================================\n",
            "conv2d (Conv2D)              (None, 56, 56, 96)        34944     \n",
            "_________________________________________________________________\n",
            "batch_normalization (BatchNo (None, 56, 56, 96)        384       \n",
            "_________________________________________________________________\n",
            "max_pooling2d (MaxPooling2D) (None, 28, 28, 96)        0         \n",
            "_________________________________________________________________\n",
            "conv2d_1 (Conv2D)            (None, 28, 28, 256)       614656    \n",
            "_________________________________________________________________\n",
            "batch_normalization_1 (Batch (None, 28, 28, 256)       1024      \n",
            "_________________________________________________________________\n",
            "max_pooling2d_1 (MaxPooling2 (None, 14, 14, 256)       0         \n",
            "_________________________________________________________________\n",
            "zero_padding2d (ZeroPadding2 (None, 16, 16, 256)       0         \n",
            "_________________________________________________________________\n",
            "conv2d_2 (Conv2D)            (None, 16, 16, 512)       1180160   \n",
            "_________________________________________________________________\n",
            "batch_normalization_2 (Batch (None, 16, 16, 512)       2048      \n",
            "_________________________________________________________________\n",
            "max_pooling2d_2 (MaxPooling2 (None, 8, 8, 512)         0         \n",
            "_________________________________________________________________\n",
            "zero_padding2d_1 (ZeroPaddin (None, 10, 10, 512)       0         \n",
            "_________________________________________________________________\n",
            "conv2d_3 (Conv2D)            (None, 10, 10, 1024)      4719616   \n",
            "_________________________________________________________________\n",
            "batch_normalization_3 (Batch (None, 10, 10, 1024)      4096      \n",
            "_________________________________________________________________\n",
            "zero_padding2d_2 (ZeroPaddin (None, 12, 12, 1024)      0         \n",
            "_________________________________________________________________\n",
            "conv2d_4 (Conv2D)            (None, 12, 12, 1024)      9438208   \n",
            "_________________________________________________________________\n",
            "batch_normalization_4 (Batch (None, 12, 12, 1024)      4096      \n",
            "_________________________________________________________________\n",
            "max_pooling2d_3 (MaxPooling2 (None, 6, 6, 1024)        0         \n",
            "_________________________________________________________________\n",
            "flatten (Flatten)            (None, 36864)             0         \n",
            "_________________________________________________________________\n",
            "dense (Dense)                (None, 3072)              113249280 \n",
            "_________________________________________________________________\n",
            "batch_normalization_5 (Batch (None, 3072)              12288     \n",
            "_________________________________________________________________\n",
            "dropout (Dropout)            (None, 3072)              0         \n",
            "_________________________________________________________________\n",
            "dense_1 (Dense)              (None, 4096)              12587008  \n",
            "_________________________________________________________________\n",
            "batch_normalization_6 (Batch (None, 4096)              16384     \n",
            "_________________________________________________________________\n",
            "dropout_1 (Dropout)          (None, 4096)              0         \n",
            "_________________________________________________________________\n",
            "dense_2 (Dense)              (None, 4608)              18878976  \n",
            "_________________________________________________________________\n",
            "batch_normalization_7 (Batch (None, 4608)              18432     \n",
            "_________________________________________________________________\n",
            "dropout_2 (Dropout)          (None, 4608)              0         \n",
            "_________________________________________________________________\n",
            "dense_3 (Dense)              (None, 2)                 9218      \n",
            "=================================================================\n",
            "Total params: 160,770,818\n",
            "Trainable params: 160,741,442\n",
            "Non-trainable params: 29,376\n",
            "_________________________________________________________________\n"
          ],
          "name": "stdout"
        }
      ]
    },
    {
      "cell_type": "code",
      "metadata": {
        "id": "luOezjOZrTjV"
      },
      "source": [
        "input_shape = model.layers[0].output_shape[1:3]\r\n",
        "batch_size = 16"
      ],
      "execution_count": null,
      "outputs": []
    },
    {
      "cell_type": "code",
      "metadata": {
        "colab": {
          "base_uri": "https://localhost:8080/"
        },
        "id": "ZfyOyWF1rlLS",
        "outputId": "7ad4c709-b9f9-4ec6-f0fa-a09b043e50da"
      },
      "source": [
        "generator_train = datagen_train.flow_from_directory(directory=train_dir,\r\n",
        "                                                    target_size=input_shape,\r\n",
        "                                                    batch_size=batch_size,\r\n",
        "                                                    shuffle=True)"
      ],
      "execution_count": null,
      "outputs": [
        {
          "output_type": "stream",
          "text": [
            "Found 45646 images belonging to 2 classes.\n"
          ],
          "name": "stdout"
        }
      ]
    },
    {
      "cell_type": "code",
      "metadata": {
        "id": "N9hSwb-Frs0M"
      },
      "source": [
        "datagen_test = ImageDataGenerator(rescale=1./255)"
      ],
      "execution_count": null,
      "outputs": []
    },
    {
      "cell_type": "code",
      "metadata": {
        "colab": {
          "base_uri": "https://localhost:8080/"
        },
        "id": "-AcHckrGsdCT",
        "outputId": "f3e2c608-fba9-4fc4-8d43-8dd3fcb8c975"
      },
      "source": [
        "generator_test = datagen_test.flow_from_directory(directory=test_dir,\r\n",
        "                                                  target_size=input_shape,\r\n",
        "                                                  batch_size=batch_size,\r\n",
        "                                                  shuffle=False)"
      ],
      "execution_count": null,
      "outputs": [
        {
          "output_type": "stream",
          "text": [
            "Found 1194 images belonging to 2 classes.\n"
          ],
          "name": "stdout"
        }
      ]
    },
    {
      "cell_type": "code",
      "metadata": {
        "colab": {
          "base_uri": "https://localhost:8080/"
        },
        "id": "WxJDxE8dsnp6",
        "outputId": "1d7179c8-762c-4bec-f9e5-514e7af9736b"
      },
      "source": [
        "h = model.fit(\r\n",
        "    generator_train,\r\n",
        "    validation_data=generator_test,\r\n",
        "    epochs=20, \r\n",
        "    callbacks=[\r\n",
        "        tf.keras.callbacks.EarlyStopping(monitor='val_accuracy', patience=5),\r\n",
        "        tf.keras.callbacks.ModelCheckpoint('models/model_{val_accuracy:.3f}.h5', save_best_only=True,\r\n",
        "                                          save_weights_only=False, monitor='val_accuracy')\r\n",
        "    ]\r\n",
        ")"
      ],
      "execution_count": null,
      "outputs": [
        {
          "output_type": "stream",
          "text": [
            "Epoch 1/20\n",
            "2853/2853 [==============================] - 17929s 6s/step - loss: 1.3129 - accuracy: 0.5000 - val_loss: 0.8204 - val_accuracy: 0.4841\n",
            "Epoch 2/20\n",
            "2853/2853 [==============================] - 719s 252ms/step - loss: 1.2416 - accuracy: 0.4974 - val_loss: 0.8519 - val_accuracy: 0.4849\n",
            "Epoch 3/20\n",
            "2853/2853 [==============================] - 720s 252ms/step - loss: 1.2670 - accuracy: 0.4988 - val_loss: 0.9971 - val_accuracy: 0.5142\n",
            "Epoch 4/20\n",
            "2853/2853 [==============================] - 719s 252ms/step - loss: 1.2608 - accuracy: 0.5012 - val_loss: 1.9989 - val_accuracy: 0.5168\n",
            "Epoch 5/20\n",
            "2853/2853 [==============================] - 734s 257ms/step - loss: 1.1681 - accuracy: 0.5002 - val_loss: 0.7696 - val_accuracy: 0.4841\n",
            "Epoch 6/20\n",
            "2853/2853 [==============================] - 745s 261ms/step - loss: 1.1648 - accuracy: 0.4965 - val_loss: 0.9595 - val_accuracy: 0.5034\n",
            "Epoch 7/20\n",
            "2853/2853 [==============================] - 742s 260ms/step - loss: 1.2179 - accuracy: 0.5024 - val_loss: 3.0406 - val_accuracy: 0.4724\n",
            "Epoch 8/20\n",
            "2853/2853 [==============================] - 742s 260ms/step - loss: 1.1412 - accuracy: 0.5013 - val_loss: 18687.8516 - val_accuracy: 0.4899\n",
            "Epoch 9/20\n",
            "2853/2853 [==============================] - 742s 260ms/step - loss: 1.1210 - accuracy: 0.4947 - val_loss: 5.2400 - val_accuracy: 0.4933\n"
          ],
          "name": "stdout"
        }
      ]
    },
    {
      "cell_type": "code",
      "metadata": {
        "id": "WmxXPBINs71r"
      },
      "source": [
        ""
      ],
      "execution_count": null,
      "outputs": []
    }
  ]
}