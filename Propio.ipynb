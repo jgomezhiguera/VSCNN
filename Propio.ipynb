{
  "nbformat": 4,
  "nbformat_minor": 0,
  "metadata": {
    "colab": {
      "name": "Propio.ipynb",
      "provenance": []
    },
    "kernelspec": {
      "name": "python3",
      "display_name": "Python 3"
    },
    "accelerator": "GPU"
  },
  "cells": [
    {
      "cell_type": "code",
      "metadata": {
        "id": "taYSKKOh-hSV"
      },
      "source": [
        "# baseline model with dropout on the cifar10 dataset\n",
        "from google.colab import drive\n",
        "import sys\n",
        "from matplotlib import pyplot\n",
        "import tensorflow as tf\n",
        "#from keras.datasets import cifar10\n",
        "from keras.utils import to_categorical\n",
        "from keras.models import Sequential\n",
        "from keras.layers import Conv2D\n",
        "from keras.layers import MaxPooling2D\n",
        "from keras.layers import Dense\n",
        "from keras.layers import Flatten\n",
        "from keras.layers import Dropout\n",
        "from keras.optimizers import SGD\n",
        "from tensorflow.keras.preprocessing.image import ImageDataGenerator\n",
        " \n",
        "model = Sequential() \n",
        "model.add(Conv2D(32, (3,3), padding='same'))\n",
        "model.add(Conv2D(32, (3, 3), activation='relu', kernel_initializer='he_uniform', padding='same'))\n",
        "model.add(MaxPooling2D((2, 2)))\n",
        "model.add(Dropout(0.2))\n",
        "model.add(Conv2D(64, (3, 3), activation='relu', kernel_initializer='he_uniform', padding='same'))\n",
        "model.add(Conv2D(64, (3, 3), activation='relu', kernel_initializer='he_uniform', padding='same'))\n",
        "model.add(MaxPooling2D((2, 2)))\n",
        "model.add(Dropout(0.2))\n",
        "model.add(Conv2D(128, (3, 3), activation='relu', kernel_initializer='he_uniform', padding='same'))\n",
        "model.add(Conv2D(128, (3, 3), activation='relu', kernel_initializer='he_uniform', padding='same'))\n",
        "model.add(MaxPooling2D((2, 2)))\n",
        "model.add(Dropout(0.2))\n",
        "model.add(Flatten())\n",
        "model.add(Dense(128, activation='relu', kernel_initializer='he_uniform'))\n",
        "model.add(Dropout(0.2))\n",
        "model.add(Dense(2, activation='sigmoid'))\n",
        "# compile model\n",
        "opt = SGD(lr=0.001, momentum=0.9)\n",
        "model.compile(optimizer=opt, loss='binary_crossentropy', metrics=['accuracy'])"
      ],
      "execution_count": null,
      "outputs": []
    },
    {
      "cell_type": "code",
      "metadata": {
        "colab": {
          "base_uri": "https://localhost:8080/"
        },
        "id": "cadiIFII-km4",
        "outputId": "4d84a92f-1ded-4bf6-f003-f97c966efb74"
      },
      "source": [
        "drive.mount(\"/content/drive\", force_remount=True)"
      ],
      "execution_count": null,
      "outputs": [
        {
          "output_type": "stream",
          "text": [
            "Mounted at /content/drive\n"
          ],
          "name": "stdout"
        }
      ]
    },
    {
      "cell_type": "code",
      "metadata": {
        "id": "CESi51I3-v7q"
      },
      "source": [
        "train_dir = \"/content/drive/MyDrive/Us/train\"\n",
        "test_dir = \"/content/drive/MyDrive/Us/val\""
      ],
      "execution_count": null,
      "outputs": []
    },
    {
      "cell_type": "code",
      "metadata": {
        "id": "SSk0cyWJ_Ove"
      },
      "source": [
        "datagen_test = ImageDataGenerator(rescale=1./255)"
      ],
      "execution_count": null,
      "outputs": []
    },
    {
      "cell_type": "code",
      "metadata": {
        "id": "Iyxt_-41_P_Z"
      },
      "source": [
        "batch_size = 32"
      ],
      "execution_count": null,
      "outputs": []
    },
    {
      "cell_type": "code",
      "metadata": {
        "id": "POxW12xu_ULI"
      },
      "source": [
        "datagen_train = ImageDataGenerator(\n",
        "    rescale=1./255,\n",
        "      rotation_range=180,\n",
        "      width_shift_range=0.1,\n",
        "      height_shift_range=0.1,\n",
        "      shear_range=0.1,\n",
        "      zoom_range=[0.9, 1.5],\n",
        "      horizontal_flip=True,\n",
        "      vertical_flip=True,\n",
        "      fill_mode='nearest')"
      ],
      "execution_count": null,
      "outputs": []
    },
    {
      "cell_type": "code",
      "metadata": {
        "colab": {
          "base_uri": "https://localhost:8080/"
        },
        "id": "qWLf36A5_Zqf",
        "outputId": "838b0a92-0ee8-4125-af0b-210060efc13b"
      },
      "source": [
        "generator_train = datagen_train.flow_from_directory(directory=train_dir,\n",
        "                                                    target_size=(224, 224),\n",
        "                                                    batch_size=batch_size,\n",
        "                                                    shuffle=True)"
      ],
      "execution_count": null,
      "outputs": [
        {
          "output_type": "stream",
          "text": [
            "Found 45646 images belonging to 2 classes.\n"
          ],
          "name": "stdout"
        }
      ]
    },
    {
      "cell_type": "code",
      "metadata": {
        "colab": {
          "base_uri": "https://localhost:8080/"
        },
        "id": "FcmuTICE_uUY",
        "outputId": "f7e43d4f-7dd6-4f2a-8db8-ab791365d92c"
      },
      "source": [
        "generator_test = datagen_test.flow_from_directory(directory=test_dir,\n",
        "                                                  target_size=(224, 224),\n",
        "                                                  batch_size=batch_size,\n",
        "                                                  shuffle=False)"
      ],
      "execution_count": null,
      "outputs": [
        {
          "output_type": "stream",
          "text": [
            "Found 1194 images belonging to 2 classes.\n"
          ],
          "name": "stdout"
        }
      ]
    },
    {
      "cell_type": "code",
      "metadata": {
        "id": "lJ-i3Sd__2Ln"
      },
      "source": [
        "cls_train = generator_train.classes\n",
        "cls_test = generator_test.classes"
      ],
      "execution_count": null,
      "outputs": []
    },
    {
      "cell_type": "code",
      "metadata": {
        "colab": {
          "base_uri": "https://localhost:8080/"
        },
        "id": "9pm0HzRWAEMv",
        "outputId": "8e8108f6-5cd2-4784-a224-a12b799a5476"
      },
      "source": [
        "class_names = list(generator_train.class_indices.keys())\n",
        "class_names"
      ],
      "execution_count": null,
      "outputs": [
        {
          "output_type": "execute_result",
          "data": {
            "text/plain": [
              "['0', '1']"
            ]
          },
          "metadata": {
            "tags": []
          },
          "execution_count": 12
        }
      ]
    },
    {
      "cell_type": "code",
      "metadata": {
        "colab": {
          "base_uri": "https://localhost:8080/"
        },
        "id": "-XGqLkHbAG1A",
        "outputId": "9abec005-4b07-469e-a751-e7072f102bf7"
      },
      "source": [
        "num_classes = generator_train.num_classes\n",
        "num_classes"
      ],
      "execution_count": null,
      "outputs": [
        {
          "output_type": "execute_result",
          "data": {
            "text/plain": [
              "2"
            ]
          },
          "metadata": {
            "tags": []
          },
          "execution_count": 13
        }
      ]
    },
    {
      "cell_type": "code",
      "metadata": {
        "id": "irM5LaK3AMwP"
      },
      "source": [
        "epochs = 25\n",
        "steps_per_epoch = 100"
      ],
      "execution_count": null,
      "outputs": []
    },
    {
      "cell_type": "code",
      "metadata": {
        "colab": {
          "base_uri": "https://localhost:8080/"
        },
        "id": "0ZNbExPVAfoX",
        "outputId": "6a29bef3-58ec-4356-92cd-07649c5e6b99"
      },
      "source": [
        "history = model.fit(x=generator_train,\n",
        "                        epochs=epochs,\n",
        "                        steps_per_epoch=steps_per_epoch,\n",
        "                        validation_data=generator_test,\n",
        "                        validation_steps=80)"
      ],
      "execution_count": null,
      "outputs": [
        {
          "output_type": "stream",
          "text": [
            "Epoch 1/25\n",
            "100/100 [==============================] - ETA: 0s - loss: 0.7104 - accuracy: 0.5069WARNING:tensorflow:Your input ran out of data; interrupting training. Make sure that your dataset or generator can generate at least `steps_per_epoch * epochs` batches (in this case, 80 batches). You may need to use the repeat() function when building your dataset.\n",
            "100/100 [==============================] - 1060s 11s/step - loss: 0.7104 - accuracy: 0.5069 - val_loss: 0.6929 - val_accuracy: 0.5209\n",
            "Epoch 2/25\n",
            "100/100 [==============================] - 716s 7s/step - loss: 0.6938 - accuracy: 0.4797\n",
            "Epoch 3/25\n",
            "100/100 [==============================] - 679s 7s/step - loss: 0.6933 - accuracy: 0.4934\n",
            "Epoch 4/25\n",
            "100/100 [==============================] - 629s 6s/step - loss: 0.6936 - accuracy: 0.5041\n",
            "Epoch 5/25\n",
            "100/100 [==============================] - 581s 6s/step - loss: 0.6931 - accuracy: 0.5122\n",
            "Epoch 6/25\n",
            "100/100 [==============================] - 561s 6s/step - loss: 0.6932 - accuracy: 0.5025\n",
            "Epoch 7/25\n",
            "100/100 [==============================] - 496s 5s/step - loss: 0.6933 - accuracy: 0.5056\n",
            "Epoch 8/25\n",
            "100/100 [==============================] - 498s 5s/step - loss: 0.6933 - accuracy: 0.4953\n",
            "Epoch 9/25\n",
            "100/100 [==============================] - 451s 5s/step - loss: 0.6932 - accuracy: 0.4922\n",
            "Epoch 10/25\n",
            "100/100 [==============================] - 425s 4s/step - loss: 0.6933 - accuracy: 0.4919\n",
            "Epoch 11/25\n",
            "100/100 [==============================] - 404s 4s/step - loss: 0.6932 - accuracy: 0.5047\n",
            "Epoch 12/25\n",
            "100/100 [==============================] - 385s 4s/step - loss: 0.6933 - accuracy: 0.4956\n",
            "Epoch 13/25\n",
            "100/100 [==============================] - 366s 4s/step - loss: 0.6932 - accuracy: 0.5038\n",
            "Epoch 14/25\n",
            "100/100 [==============================] - 334s 3s/step - loss: 0.6932 - accuracy: 0.5028\n",
            "Epoch 15/25\n",
            "100/100 [==============================] - 326s 3s/step - loss: 0.6932 - accuracy: 0.4925\n",
            "Epoch 16/25\n",
            "100/100 [==============================] - 302s 3s/step - loss: 0.6931 - accuracy: 0.5022\n",
            "Epoch 17/25\n",
            "100/100 [==============================] - 285s 3s/step - loss: 0.6932 - accuracy: 0.4984\n",
            "Epoch 18/25\n",
            "100/100 [==============================] - 275s 3s/step - loss: 0.6932 - accuracy: 0.4925\n",
            "Epoch 19/25\n",
            "100/100 [==============================] - 255s 3s/step - loss: 0.6932 - accuracy: 0.4997\n",
            "Epoch 20/25\n",
            "100/100 [==============================] - 255s 3s/step - loss: 0.6932 - accuracy: 0.4966\n",
            "Epoch 21/25\n",
            "100/100 [==============================] - 241s 2s/step - loss: 0.6930 - accuracy: 0.5131\n",
            "Epoch 22/25\n",
            "100/100 [==============================] - 228s 2s/step - loss: 0.6932 - accuracy: 0.5028\n",
            "Epoch 23/25\n",
            "100/100 [==============================] - 228s 2s/step - loss: 0.6930 - accuracy: 0.5113\n",
            "Epoch 24/25\n",
            "100/100 [==============================] - 201s 2s/step - loss: 0.6931 - accuracy: 0.5009\n",
            "Epoch 25/25\n",
            "100/100 [==============================] - 193s 2s/step - loss: 0.6930 - accuracy: 0.5091\n"
          ],
          "name": "stdout"
        }
      ]
    },
    {
      "cell_type": "code",
      "metadata": {
        "id": "L-BkY4o9EIQO"
      },
      "source": [
        ""
      ],
      "execution_count": null,
      "outputs": []
    }
  ]
}